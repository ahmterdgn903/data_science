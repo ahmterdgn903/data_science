{
 "cells": [
  {
   "cell_type": "code",
   "execution_count": 1,
   "metadata": {},
   "outputs": [
    {
     "name": "stderr",
     "output_type": "stream",
     "text": [
      "unable to import 'smart_open.gcs', disabling that module\n"
     ]
    }
   ],
   "source": [
    "# vectors anmatrix\n",
    "import numpy as np\n",
    "from gensim.models import Word2Vec\n",
    "# visualization of word vectors relationship\n",
    "from sklearn.manifold import TSNE\n",
    "# draw graphic\n",
    "import matplotlib.pyplot as plt"
   ]
  },
  {
   "cell_type": "code",
   "execution_count": 2,
   "metadata": {},
   "outputs": [],
   "source": [
    "# read data\n",
    "f = open('hurriyet.txt', 'r', encoding='utf8')\n",
    "text = f.read()\n",
    "# split data by rows/sentences\n",
    "t_list = text.split('\\n')\n",
    "# split to words\n",
    "corpus = []\n",
    "\n",
    "for cumle in t_list:\n",
    "    corpus.append(cumle.split())"
   ]
  },
  {
   "cell_type": "code",
   "execution_count": 3,
   "metadata": {},
   "outputs": [
    {
     "name": "stdout",
     "output_type": "stream",
     "text": [
      "[['iran', 'devlet', 'televizyonu', 'ülkedeki', 'eyaletin', 'sinde', 'yapılan', 'reformcuları', 'protesto', 'amaçlı', 'yürüyüşlere', 'milyonlarca', 'kişinin', 'katıldığını', 'bildirdi'], ['gösterilerde', 'fitnecilere', 'ölüm', 'münafıklara', 'ölüm', 'abd', 'ye', 'ölüm', 'ingiltere', 'ye', 'ölüm', 'sloganları', 'atıldı'], ['dini', 'lider', 'ali', 'hamaney', 've', 'cumhurbaşkanı', 'mahmud', 'ahmedinejad', 'ı', 'destekleyen', 'iranlılar', 'son', 'olaylarda', 'yeğeni', 'öldürülen', 'mir', 'hüseyin', 'musevi', 'başta', 'olmak', 'üzere', 'muhalefet', 'liderlerini', 'kınadılar'], ['musevi', 'ye', 'ölüm', 've', 'idam', 'idam', 'sloganları', 'duyuldu'], ['muhalefet', 'liderleri', 'kaçtı', 'mı', 'aşure', 'günü', 'yaşanan', 'çatışmalarda', 'devlet', 'kaynaklarına', 'göre', 'u', 'terörist', 'olmak', 'üzere', 'kişi', 'ölmüştü'], ['den', 'fazla', 'kişinin', 'yaralandığı', 'olaylar', 'sırasında', 'en', 'az', 'kişi', 'tutuklanmıştı'], ['öte', 'yandan', 'iran', 'haber', 'ajansı', 'irna', 'muhalif', 'liderler', 'mir', 'hüseyin', 'musevi', 've', 'mehdi', 'kerrubi', 'nin', 'başkentten', 'kaçarak', 'ülkenin', 'kuzeyine', 'geçtiğini', 'ileri', 'sürdü', 'ancak', 'muhalefet', 'iddiayı', 'yalanladı'], ['hamaney', 'in', 'bir', 'dönem', 'korumalığını', 'yapan', 've', 'şu', 'anda', 'fransa', 'da', 'saklandığı', 'söylenen', 'bir', 'kişinin', 'muhalefete', 'verdiği', 'bilgilere', 'göre', 'münzevi', 'yaşamı', 'na', 'rağmen', 'dini', 'liderin', 'havyara', 'karşı', 'korkunç', 'bir', 'iştahı', 'var'], ['baston', 've', 'at', 'meraklısı', 'hamaney', 'aynı', 'zamanda', 'değerli', 'mücevherlerle', 'bezenmiş', 'bastonların', 've', 'cins', 'atların', 'koleksiyonunu', 'yapıyor'], ['hamaney', 'in', 'antika', 'bastonlarının', 'sayısı']]\n"
     ]
    }
   ],
   "source": [
    "print(corpus[:10])"
   ]
  },
  {
   "cell_type": "code",
   "execution_count": 4,
   "metadata": {},
   "outputs": [],
   "source": [
    "# train word2vec model\n",
    "# words vector is 100\n",
    "# windows size is 5\n",
    "# count min 5\n",
    "# skip_gram is true (default CBOW)\n",
    "\n",
    "# model = Word2Vec(corpus, size=100, window=5, min_count=5, sg=1)"
   ]
  },
  {
   "cell_type": "code",
   "execution_count": 5,
   "metadata": {},
   "outputs": [],
   "source": [
    "# save trainimg model\n",
    "\n",
    "# model.save('word2vec.model')"
   ]
  },
  {
   "cell_type": "code",
   "execution_count": 6,
   "metadata": {},
   "outputs": [],
   "source": [
    "model = Word2Vec.load('word2vec.model')"
   ]
  },
  {
   "cell_type": "code",
   "execution_count": 7,
   "metadata": {},
   "outputs": [
    {
     "data": {
      "text/plain": [
       "array([ 0.02202153, -0.57264006, -0.48725477,  0.6466478 ,  0.01330798,\n",
       "       -0.1002019 ,  0.10825463,  0.31773925, -0.45460275, -0.1086335 ,\n",
       "       -0.14456157,  0.00943776,  0.24773805, -0.22297056, -0.20453797,\n",
       "        0.1840838 , -0.35187364, -0.2324372 , -0.01593865,  0.504982  ,\n",
       "        0.6631751 , -0.6697373 ,  0.36847752,  0.30755126,  0.4487585 ,\n",
       "       -0.3332229 ,  0.24620467,  0.04691689,  0.3843    ,  0.25713578,\n",
       "       -0.2973244 ,  0.07377289, -0.6964685 , -0.2787718 , -0.0084683 ,\n",
       "       -0.13379084, -0.12378814,  0.18425925, -0.2701597 ,  0.10369191,\n",
       "        0.3422242 , -0.23161061,  0.08890356,  0.1296364 , -0.34838778,\n",
       "        0.27700722, -0.09367496,  0.02520825, -0.46274346, -0.12428824,\n",
       "       -0.44024855, -0.2767097 ,  0.10672282,  0.67280495, -0.17190528,\n",
       "       -0.6309732 ,  0.4855791 , -0.24257198, -0.22066839, -0.10358994,\n",
       "       -0.13965252,  0.42264193, -0.14080483,  0.05183483, -0.06559076,\n",
       "        0.0789177 , -0.48705003, -0.03019284,  0.4597356 ,  0.5238072 ,\n",
       "       -0.4707277 ,  0.6255731 ,  0.1277728 ,  0.15562244,  0.4153906 ,\n",
       "        0.10009041,  0.19297661,  0.04029607,  0.13565452, -0.15231302,\n",
       "        0.68327326,  0.70441973,  0.15751441, -0.60541123, -0.08343733,\n",
       "        0.07732128,  0.0071252 , -0.04420432, -0.52880263,  0.12407341,\n",
       "       -0.02883562,  0.20416798,  0.13292749,  0.23097666, -0.15706474,\n",
       "       -0.5246907 , -0.7274584 , -0.18896294, -0.02283909,  0.35276318],\n",
       "      dtype=float32)"
      ]
     },
     "execution_count": 7,
     "metadata": {},
     "output_type": "execute_result"
    }
   ],
   "source": [
    "model.wv['ankara']"
   ]
  },
  {
   "cell_type": "code",
   "execution_count": 8,
   "metadata": {},
   "outputs": [
    {
     "data": {
      "text/plain": [
       "[('avusturya', 0.8095100522041321),\n",
       " ('danimarka', 0.8021454811096191),\n",
       " ('belçika', 0.7797079682350159),\n",
       " ('kanada', 0.7786818742752075),\n",
       " ('almanya', 0.757148027420044),\n",
       " ('avustralya', 0.7434426546096802),\n",
       " ('fransa', 0.7372311353683472),\n",
       " ('ispanya', 0.7368465065956116),\n",
       " ('letonya', 0.7292906641960144),\n",
       " ('liechtenstein', 0.7196954488754272)]"
      ]
     },
     "execution_count": 8,
     "metadata": {},
     "output_type": "execute_result"
    }
   ],
   "source": [
    "# words that are closest to a word\n",
    "model.wv.most_similar('hollanda')"
   ]
  },
  {
   "cell_type": "code",
   "execution_count": 9,
   "metadata": {},
   "outputs": [
    {
     "data": {
      "text/plain": [
       "[('twitter', 0.757993221282959),\n",
       " ('whatsapp', 0.7361641526222229),\n",
       " ('paylaşım', 0.7186999917030334),\n",
       " ('facebook', 0.7155314683914185),\n",
       " ('internetteki', 0.694369912147522),\n",
       " ('internete', 0.6934200525283813),\n",
       " ('video', 0.6925278902053833),\n",
       " ('twıtter', 0.6909770369529724),\n",
       " ('yayınlandıktan', 0.6869874596595764),\n",
       " ('sayfasına', 0.6855589151382446)]"
      ]
     },
     "execution_count": 9,
     "metadata": {},
     "output_type": "execute_result"
    }
   ],
   "source": [
    "model.wv.most_similar('youtube')"
   ]
  },
  {
   "cell_type": "code",
   "execution_count": 10,
   "metadata": {},
   "outputs": [],
   "source": [
    "def closestwords_tsneplot(model, word):\n",
    "    word_vectors = np.empty((0,100))\n",
    "    word_labels = [word]\n",
    "    \n",
    "    close_words = model.wv.most_similar(word)\n",
    "    \n",
    "    word_vectors = np.append(word_vectors, np.array([model.wv[word]]), axis=0)\n",
    "    \n",
    "    for w, _ in close_words:\n",
    "        word_labels.append(w)\n",
    "        word_vectors = np.append(word_vectors, np.array([model.wv[w]]), axis=0)\n",
    "        \n",
    "    tsne = TSNE(random_state=0)\n",
    "    Y = tsne.fit_transform(word_vectors)\n",
    "    \n",
    "    x_coords = Y[:, 0]\n",
    "    y_coords = Y[:, 1]\n",
    "    \n",
    "    plt.scatter(x_coords, y_coords)\n",
    "    \n",
    "    for label, x, y in zip(word_labels, x_coords, y_coords):\n",
    "        plt.annotate(label, xy=(x, y), xytext=(5, -2), textcoords='offset points')\n",
    "        \n",
    "    plt.show()"
   ]
  },
  {
   "cell_type": "code",
   "execution_count": 11,
   "metadata": {},
   "outputs": [
    {
     "data": {
      "image/png": "[encoded data removed]",
      "text/plain": [
       "<Figure size 432x288 with 1 Axes>"
      ]
     },
     "metadata": {
      "needs_background": "light"
     },
     "output_type": "display_data"
    }
   ],
   "source": [
    "closestwords_tsneplot(model, 'mu')"
   ]
  },
  {
   "cell_type": "code",
   "execution_count": null,
   "metadata": {},
   "outputs": [],
   "source": []
  }
 ],
 "metadata": {
  "kernelspec": {
   "display_name": "Python 3",
   "language": "python",
   "name": "python3"
  },
  "language_info": {
   "codemirror_mode": {
    "name": "ipython",
    "version": 3
   },
   "file_extension": ".py",
   "mimetype": "text/x-python",
   "name": "python",
   "nbconvert_exporter": "python",
   "pygments_lexer": "ipython3",
   "version": "3.7.4"
  }
 },
 "nbformat": 4,
 "nbformat_minor": 2
}

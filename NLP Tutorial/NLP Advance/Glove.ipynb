{
 "cells": [
  {
   "cell_type": "code",
   "execution_count": 1,
   "metadata": {},
   "outputs": [
    {
     "name": "stderr",
     "output_type": "stream",
     "text": [
      "unable to import 'smart_open.gcs', disabling that module\n"
     ]
    }
   ],
   "source": [
    "from gensim.scripts.glove2word2vec import glove2word2vec\n",
    "from gensim.models import KeyedVectors"
   ]
  },
  {
   "cell_type": "code",
   "execution_count": 2,
   "metadata": {},
   "outputs": [
    {
     "data": {
      "text/plain": [
       "(400000, 100)"
      ]
     },
     "execution_count": 2,
     "metadata": {},
     "output_type": "execute_result"
    }
   ],
   "source": [
    "glove_input = 'glove.6B.100d.txt'\n",
    "word2vec_output = 'glove.6B.100d.word2vec'\n",
    "glove2word2vec(glove_input, word2vec_output)"
   ]
  },
  {
   "cell_type": "code",
   "execution_count": 3,
   "metadata": {},
   "outputs": [],
   "source": [
    "model = KeyedVectors.load_word2vec_format(word2vec_output, binary=False)"
   ]
  },
  {
   "cell_type": "code",
   "execution_count": 4,
   "metadata": {},
   "outputs": [
    {
     "data": {
      "text/plain": [
       "array([ 0.40378  ,  0.019734 , -0.15499  , -0.26948  ,  0.33938  ,\n",
       "        0.46476  , -0.53141  ,  0.094519 ,  0.45399  ,  1.3385   ,\n",
       "        0.18271  , -0.3465   ,  0.28323  ,  0.70829  , -0.75002  ,\n",
       "        0.016359 , -0.64514  , -0.54882  , -0.75309  , -0.21617  ,\n",
       "        0.13678  , -0.25198  , -0.037552 ,  0.35938  , -0.33532  ,\n",
       "       -0.78733  ,  0.10907  , -0.13902  ,  0.53454  ,  0.58805  ,\n",
       "       -1.1348   , -0.14574  ,  0.20244  ,  0.81909  , -0.27482  ,\n",
       "        0.14045  ,  0.68814  ,  0.70236  , -0.34211  , -0.62128  ,\n",
       "       -0.10601  , -0.62413  ,  0.30536  , -0.44325  ,  0.64016  ,\n",
       "        0.0020673,  0.88252  ,  0.050356 , -0.35739  ,  0.54686  ,\n",
       "        0.11974  , -0.12593  ,  0.74211  ,  0.65482  , -1.4018   ,\n",
       "       -1.1218   , -0.21188  ,  0.35338  ,  0.53459  ,  0.20205  ,\n",
       "       -0.86132  ,  0.82773  , -0.10065  , -0.19766  , -0.85631  ,\n",
       "        0.27891  , -1.3381   ,  0.19368  , -0.70602  ,  0.067972 ,\n",
       "       -0.80953  , -0.65974  ,  0.50856  , -0.020009 , -0.7665   ,\n",
       "       -0.21865  ,  0.11584  , -0.23323  , -0.73037  ,  0.25433  ,\n",
       "        0.51655  , -0.031959 , -0.34603  ,  0.016619 ,  0.36089  ,\n",
       "       -0.25636  , -0.86198  , -0.16575  , -0.084256 ,  0.21918  ,\n",
       "        0.7003   ,  0.14982  , -0.083508 , -0.16968  , -0.5801   ,\n",
       "        0.96829  ,  0.40106  ,  0.16945  ,  0.74681  ,  0.26952  ],\n",
       "      dtype=float32)"
      ]
     },
     "execution_count": 4,
     "metadata": {},
     "output_type": "execute_result"
    }
   ],
   "source": [
    "model['istanbul']"
   ]
  },
  {
   "cell_type": "code",
   "execution_count": 5,
   "metadata": {},
   "outputs": [
    {
     "data": {
      "text/plain": [
       "[('kangaroos', 0.6124688982963562),\n",
       " ('squirrel', 0.5469585657119751),\n",
       " ('rat', 0.5455619096755981),\n",
       " ('mule', 0.5324220061302185),\n",
       " ('elephant', 0.5309096574783325),\n",
       " ('snake', 0.5248682498931885),\n",
       " ('monkey', 0.5218598246574402),\n",
       " ('parrot', 0.5193796157836914),\n",
       " ('sheep', 0.5146180391311646),\n",
       " ('shark', 0.5082205533981323)]"
      ]
     },
     "execution_count": 5,
     "metadata": {},
     "output_type": "execute_result"
    }
   ],
   "source": [
    "model.most_similar('kangaroo')"
   ]
  },
  {
   "cell_type": "code",
   "execution_count": 13,
   "metadata": {},
   "outputs": [
    {
     "data": {
      "text/plain": [
       "[('queen', 0.7698541283607483)]"
      ]
     },
     "execution_count": 13,
     "metadata": {},
     "output_type": "execute_result"
    }
   ],
   "source": [
    "model.most_similar(positive=['woman', 'king'], negative=['man'], topn=1)"
   ]
  },
  {
   "cell_type": "code",
   "execution_count": 6,
   "metadata": {},
   "outputs": [
    {
     "data": {
      "text/plain": [
       "[('daughter', 0.9090957641601562)]"
      ]
     },
     "execution_count": 6,
     "metadata": {},
     "output_type": "execute_result"
    }
   ],
   "source": [
    "model.most_similar(positive=['woman', 'son'], negative=['man'], topn=1)"
   ]
  },
  {
   "cell_type": "code",
   "execution_count": 14,
   "metadata": {},
   "outputs": [
    {
     "data": {
      "text/plain": [
       "[('mother', 0.9024618864059448)]"
      ]
     },
     "execution_count": 14,
     "metadata": {},
     "output_type": "execute_result"
    }
   ],
   "source": [
    "model.most_similar(positive=['woman', 'father'], negative=['man'], topn=1)"
   ]
  },
  {
   "cell_type": "code",
   "execution_count": 7,
   "metadata": {},
   "outputs": [
    {
     "data": {
      "text/plain": [
       "[('thailand', 0.8427271842956543)]"
      ]
     },
     "execution_count": 7,
     "metadata": {},
     "output_type": "execute_result"
    }
   ],
   "source": [
    "model.most_similar(positive=['bangkok', 'germany'], negative=['berlin'], topn=1)"
   ]
  },
  {
   "cell_type": "code",
   "execution_count": 8,
   "metadata": {},
   "outputs": [
    {
     "data": {
      "text/plain": [
       "[('teacher', 0.7610153555870056)]"
      ]
     },
     "execution_count": 8,
     "metadata": {},
     "output_type": "execute_result"
    }
   ],
   "source": [
    "model.most_similar(positive=['teach', 'doctor'], negative=['treat'], topn=1)"
   ]
  },
  {
   "cell_type": "code",
   "execution_count": 9,
   "metadata": {},
   "outputs": [],
   "source": [
    "# vectors anmatrix\n",
    "import numpy as np\n",
    "# visualization of word vectors relationship\n",
    "from sklearn.manifold import TSNE\n",
    "# draw graphic\n",
    "import matplotlib.pyplot as plt"
   ]
  },
  {
   "cell_type": "code",
   "execution_count": 10,
   "metadata": {},
   "outputs": [],
   "source": [
    "def closestwords_tsneplot(model, word):\n",
    "    word_vectors = np.empty((0,100))\n",
    "    word_labels = [word]\n",
    "    \n",
    "    close_words = model.wv.most_similar(word)\n",
    "    \n",
    "    word_vectors = np.append(word_vectors, np.array([model.wv[word]]), axis=0)\n",
    "    \n",
    "    for w, _ in close_words:\n",
    "        word_labels.append(w)\n",
    "        word_vectors = np.append(word_vectors, np.array([model.wv[w]]), axis=0)\n",
    "        \n",
    "    tsne = TSNE(random_state=0)\n",
    "    Y = tsne.fit_transform(word_vectors)\n",
    "    \n",
    "    x_coords = Y[:, 0]\n",
    "    y_coords = Y[:, 1]\n",
    "    \n",
    "    plt.scatter(x_coords, y_coords)\n",
    "    \n",
    "    for label, x, y in zip(word_labels, x_coords, y_coords):\n",
    "        plt.annotate(label, xy=(x, y), xytext=(5, -2), textcoords='offset points')\n",
    "        \n",
    "    plt.show()"
   ]
  },
  {
   "cell_type": "code",
   "execution_count": 12,
   "metadata": {},
   "outputs": [
    {
     "name": "stderr",
     "output_type": "stream",
     "text": [
      "/opt/anaconda3/lib/python3.7/site-packages/ipykernel_launcher.py:5: DeprecationWarning: Call to deprecated `wv` (Attribute will be removed in 4.0.0, use self instead).\n",
      "  \"\"\"\n",
      "/opt/anaconda3/lib/python3.7/site-packages/ipykernel_launcher.py:7: DeprecationWarning: Call to deprecated `wv` (Attribute will be removed in 4.0.0, use self instead).\n",
      "  import sys\n",
      "/opt/anaconda3/lib/python3.7/site-packages/ipykernel_launcher.py:11: DeprecationWarning: Call to deprecated `wv` (Attribute will be removed in 4.0.0, use self instead).\n",
      "  # This is added back by InteractiveShellApp.init_path()\n"
     ]
    },
    {
     "data": {
      "image/png": "[encoded data removed]",
      "text/plain": [
       "<Figure size 432x288 with 1 Axes>"
      ]
     },
     "metadata": {
      "needs_background": "light"
     },
     "output_type": "display_data"
    }
   ],
   "source": [
    "closestwords_tsneplot(model, 'berlin')"
   ]
  },
  {
   "cell_type": "code",
   "execution_count": null,
   "metadata": {},
   "outputs": [],
   "source": []
  }
 ],
 "metadata": {
  "kernelspec": {
   "display_name": "Python 3",
   "language": "python",
   "name": "python3"
  },
  "language_info": {
   "codemirror_mode": {
    "name": "ipython",
    "version": 3
   },
   "file_extension": ".py",
   "mimetype": "text/x-python",
   "name": "python",
   "nbconvert_exporter": "python",
   "pygments_lexer": "ipython3",
   "version": "3.7.4"
  }
 },
 "nbformat": 4,
 "nbformat_minor": 2
}

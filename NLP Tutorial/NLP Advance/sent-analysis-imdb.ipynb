{
 "cells": [
  {
   "cell_type": "markdown",
   "metadata": {},
   "source": [
    "# Sentiment Analysis with Deep Learning"
   ]
  },
  {
   "cell_type": "markdown",
   "metadata": {},
   "source": [
    "## About Data\n",
    "\n",
    "IMDB dataset having 50K movie reviews for natural language processing or Text analytics.\n",
    "This is a dataset for binary sentiment classification containing substantially more data than previous benchmark datasets. We provide a set of 25,000 highly polar movie reviews for training and 25,000 for testing. So, predict the number of positive and negative reviews using either classification or deep learning algorithms.\n",
    "For more dataset information, please go through the following link,\n",
    "\n",
    "http://ai.stanford.edu/~amaas/data/sentiment/"
   ]
  },
  {
   "cell_type": "markdown",
   "metadata": {},
   "source": [
    "## Import Dependecies"
   ]
  },
  {
   "cell_type": "code",
   "execution_count": 466,
   "metadata": {},
   "outputs": [],
   "source": [
    "import numpy as np\n",
    "import pandas as pd"
   ]
  },
  {
   "cell_type": "code",
   "execution_count": 467,
   "metadata": {},
   "outputs": [],
   "source": [
    "from tensorflow.python.keras.models import Sequential\n",
    "from tensorflow.python.keras.layers import Dense, GRU, Embedding, CuDNNGRU\n",
    "from tensorflow.python.keras.optimizers import Adam\n",
    "from tensorflow.python.keras.preprocessing.text import Tokenizer\n",
    "from tensorflow.python.keras.preprocessing.sequence import pad_sequences"
   ]
  },
  {
   "cell_type": "code",
   "execution_count": 468,
   "metadata": {},
   "outputs": [],
   "source": [
    "from bs4 import BeautifulSoup\n",
    "import re\n",
    "from nltk.tokenize import sent_tokenize, word_tokenize, WordPunctTokenizer\n",
    "from nltk.corpus import stopwords\n",
    "import matplotlib.pyplot as plt\n",
    "import seaborn as sns\n",
    "from collections import Counter\n",
    "from wordcloud import WordCloud"
   ]
  },
  {
   "cell_type": "markdown",
   "metadata": {},
   "source": [
    "## Define Data"
   ]
  },
  {
   "cell_type": "code",
   "execution_count": 469,
   "metadata": {},
   "outputs": [],
   "source": [
    "dataset = pd.read_csv('imdb.csv')"
   ]
  },
  {
   "cell_type": "code",
   "execution_count": 470,
   "metadata": {},
   "outputs": [
    {
     "data": {
      "text/plain": [
       "0"
      ]
     },
     "execution_count": 470,
     "metadata": {},
     "output_type": "execute_result"
    }
   ],
   "source": [
    "np.sum(dataset.isnull().any(axis=1))"
   ]
  },
  {
   "cell_type": "code",
   "execution_count": 471,
   "metadata": {},
   "outputs": [
    {
     "data": {
      "text/html": [
       "<div>\n",
       "<style scoped>\n",
       "    .dataframe tbody tr th:only-of-type {\n",
       "        vertical-align: middle;\n",
       "    }\n",
       "\n",
       "    .dataframe tbody tr th {\n",
       "        vertical-align: top;\n",
       "    }\n",
       "\n",
       "    .dataframe thead th {\n",
       "        text-align: right;\n",
       "    }\n",
       "</style>\n",
       "<table border=\"1\" class=\"dataframe\">\n",
       "  <thead>\n",
       "    <tr style=\"text-align: right;\">\n",
       "      <th></th>\n",
       "      <th>review</th>\n",
       "      <th>sentiment</th>\n",
       "    </tr>\n",
       "  </thead>\n",
       "  <tbody>\n",
       "    <tr>\n",
       "      <td>0</td>\n",
       "      <td>One of the other reviewers has mentioned that ...</td>\n",
       "      <td>positive</td>\n",
       "    </tr>\n",
       "    <tr>\n",
       "      <td>1</td>\n",
       "      <td>A wonderful little production. &lt;br /&gt;&lt;br /&gt;The...</td>\n",
       "      <td>positive</td>\n",
       "    </tr>\n",
       "    <tr>\n",
       "      <td>2</td>\n",
       "      <td>I thought this was a wonderful way to spend ti...</td>\n",
       "      <td>positive</td>\n",
       "    </tr>\n",
       "    <tr>\n",
       "      <td>3</td>\n",
       "      <td>Basically there's a family where a little boy ...</td>\n",
       "      <td>negative</td>\n",
       "    </tr>\n",
       "    <tr>\n",
       "      <td>4</td>\n",
       "      <td>Petter Mattei's \"Love in the Time of Money\" is...</td>\n",
       "      <td>positive</td>\n",
       "    </tr>\n",
       "  </tbody>\n",
       "</table>\n",
       "</div>"
      ],
      "text/plain": [
       "                                              review sentiment\n",
       "0  One of the other reviewers has mentioned that ...  positive\n",
       "1  A wonderful little production. <br /><br />The...  positive\n",
       "2  I thought this was a wonderful way to spend ti...  positive\n",
       "3  Basically there's a family where a little boy ...  negative\n",
       "4  Petter Mattei's \"Love in the Time of Money\" is...  positive"
      ]
     },
     "execution_count": 471,
     "metadata": {},
     "output_type": "execute_result"
    }
   ],
   "source": [
    "dataset.head()"
   ]
  },
  {
   "cell_type": "code",
   "execution_count": 472,
   "metadata": {},
   "outputs": [
    {
     "data": {
      "text/plain": [
       "'I thought this was a wonderful way to spend time on a too hot summer weekend, sitting in the air conditioned theater and watching a light-hearted comedy. The plot is simplistic, but the dialogue is witty and the characters are likable (even the well bread suspected serial killer). While some may be disappointed when they realize this is not Match Point 2: Risk Addiction, I thought it was proof that Woody Allen is still fully in control of the style many of us have grown to love.<br /><br />This was the most I\\'d laughed at one of Woody\\'s comedies in years (dare I say a decade?). While I\\'ve never been impressed with Scarlet Johanson, in this she managed to tone down her \"sexy\" image and jumped right into a average, but spirited young woman.<br /><br />This may not be the crown jewel of his career, but it was wittier than \"Devil Wears Prada\" and more interesting than \"Superman\" a great comedy to go see with friends.'"
      ]
     },
     "execution_count": 472,
     "metadata": {},
     "output_type": "execute_result"
    }
   ],
   "source": [
    "dataset.review[2]"
   ]
  },
  {
   "cell_type": "markdown",
   "metadata": {},
   "source": [
    "## Clean Data"
   ]
  },
  {
   "cell_type": "code",
   "execution_count": 473,
   "metadata": {},
   "outputs": [
    {
     "data": {
      "text/html": [
       "<div>\n",
       "<style scoped>\n",
       "    .dataframe tbody tr th:only-of-type {\n",
       "        vertical-align: middle;\n",
       "    }\n",
       "\n",
       "    .dataframe tbody tr th {\n",
       "        vertical-align: top;\n",
       "    }\n",
       "\n",
       "    .dataframe thead th {\n",
       "        text-align: right;\n",
       "    }\n",
       "</style>\n",
       "<table border=\"1\" class=\"dataframe\">\n",
       "  <thead>\n",
       "    <tr style=\"text-align: right;\">\n",
       "      <th></th>\n",
       "      <th>review</th>\n",
       "      <th>sentiment</th>\n",
       "    </tr>\n",
       "  </thead>\n",
       "  <tbody>\n",
       "  </tbody>\n",
       "</table>\n",
       "</div>"
      ],
      "text/plain": [
       "Empty DataFrame\n",
       "Columns: [review, sentiment]\n",
       "Index: []"
      ]
     },
     "execution_count": 473,
     "metadata": {},
     "output_type": "execute_result"
    }
   ],
   "source": [
    "dataset[dataset.isnull().any(axis=1)]"
   ]
  },
  {
   "cell_type": "code",
   "execution_count": 474,
   "metadata": {},
   "outputs": [
    {
     "data": {
      "text/plain": [
       "0"
      ]
     },
     "execution_count": 474,
     "metadata": {},
     "output_type": "execute_result"
    }
   ],
   "source": [
    "np.sum(dataset.isnull().any(axis=1))"
   ]
  },
  {
   "cell_type": "code",
   "execution_count": 475,
   "metadata": {},
   "outputs": [
    {
     "name": "stdout",
     "output_type": "stream",
     "text": [
      "<class 'pandas.core.frame.DataFrame'>\n",
      "RangeIndex: 50000 entries, 0 to 49999\n",
      "Data columns (total 2 columns):\n",
      "review       50000 non-null object\n",
      "sentiment    50000 non-null object\n",
      "dtypes: object(2)\n",
      "memory usage: 781.4+ KB\n"
     ]
    }
   ],
   "source": [
    "dataset.info()"
   ]
  },
  {
   "cell_type": "code",
   "execution_count": 476,
   "metadata": {},
   "outputs": [],
   "source": [
    "#Removing the html strips\n",
    "def strip_html(text):\n",
    "    soup = BeautifulSoup(text, \"html.parser\")\n",
    "    return soup.get_text()\n",
    "\n",
    "#Removing the square brackets\n",
    "def remove_between_square_brackets(text):\n",
    "    return re.sub('\\[[^]]*\\]', '', text)\n",
    "\n",
    "#Removing the noisy text\n",
    "def denoise_text(text):\n",
    "    text = strip_html(text)\n",
    "    text = remove_between_square_brackets(text)\n",
    "    return text\n",
    "#Apply function on review column\n",
    "dataset['review']=dataset['review'].apply(denoise_text)"
   ]
  },
  {
   "cell_type": "code",
   "execution_count": 477,
   "metadata": {},
   "outputs": [
    {
     "data": {
      "text/plain": [
       "'I thought this was a wonderful way to spend time on a too hot summer weekend, sitting in the air conditioned theater and watching a light-hearted comedy. The plot is simplistic, but the dialogue is witty and the characters are likable (even the well bread suspected serial killer). While some may be disappointed when they realize this is not Match Point 2: Risk Addiction, I thought it was proof that Woody Allen is still fully in control of the style many of us have grown to love.This was the most I\\'d laughed at one of Woody\\'s comedies in years (dare I say a decade?). While I\\'ve never been impressed with Scarlet Johanson, in this she managed to tone down her \"sexy\" image and jumped right into a average, but spirited young woman.This may not be the crown jewel of his career, but it was wittier than \"Devil Wears Prada\" and more interesting than \"Superman\" a great comedy to go see with friends.'"
      ]
     },
     "execution_count": 477,
     "metadata": {},
     "output_type": "execute_result"
    }
   ],
   "source": [
    "dataset.review[2]"
   ]
  },
  {
   "cell_type": "markdown",
   "metadata": {},
   "source": [
    "test of creating new dataset from current dataset"
   ]
  },
  {
   "cell_type": "code",
   "execution_count": 381,
   "metadata": {},
   "outputs": [],
   "source": [
    "# reviews = []\n",
    "# sentiments = []\n",
    "# for row,i in zip(dataset['review'],dataset['sentiment']):\n",
    "#     for sent in sent_tokenize(row):\n",
    "#         reviews.append(sent)\n",
    "#         sentiments.append(i)"
   ]
  },
  {
   "cell_type": "code",
   "execution_count": 382,
   "metadata": {},
   "outputs": [],
   "source": [
    "# data = {'review':reviews, 'sentiment':sentiments}\n",
    "# new_dataset = pd.DataFrame(data=data)"
   ]
  },
  {
   "cell_type": "code",
   "execution_count": 383,
   "metadata": {},
   "outputs": [],
   "source": [
    "# new_dataset        "
   ]
  },
  {
   "cell_type": "code",
   "execution_count": 384,
   "metadata": {},
   "outputs": [],
   "source": [
    "# new_dataset['sentiment'] = [1 if i=='positive' else 0 for i in new_dataset['sentiment']]"
   ]
  },
  {
   "cell_type": "code",
   "execution_count": 385,
   "metadata": {},
   "outputs": [],
   "source": [
    "# new_dataset"
   ]
  },
  {
   "cell_type": "markdown",
   "metadata": {},
   "source": [
    "## Data Visualition"
   ]
  },
  {
   "cell_type": "code",
   "execution_count": 393,
   "metadata": {},
   "outputs": [
    {
     "data": {
      "text/plain": [
       "Text(0.5,1,'Distribution of Positive and Negative')"
      ]
     },
     "execution_count": 393,
     "metadata": {},
     "output_type": "execute_result"
    },
    {
     "data": {
      "image/png": "[encoded data removed]",
      "text/plain": [
       "<Figure size 432x288 with 1 Axes>"
      ]
     },
     "metadata": {
      "needs_background": "light"
     },
     "output_type": "display_data"
    }
   ],
   "source": [
    "#plotting graph for distribution\n",
    "\n",
    "sns.countplot(x='sentiment', data=dataset)\n",
    "dataset.loc[:,'sentiment'].value_counts()\n",
    "plt.title('Distribution of Positive and Negative')"
   ]
  },
  {
   "cell_type": "code",
   "execution_count": 394,
   "metadata": {},
   "outputs": [
    {
     "data": {
      "text/plain": [
       "<matplotlib.legend.Legend at 0x155cd1290>"
      ]
     },
     "execution_count": 394,
     "metadata": {},
     "output_type": "execute_result"
    },
    {
     "data": {
      "image/png": "[encoded data removed]",
      "text/plain": [
       "<Figure size 432x288 with 1 Axes>"
      ]
     },
     "metadata": {
      "needs_background": "light"
     },
     "output_type": "display_data"
    }
   ],
   "source": [
    "# plotting graph by length\n",
    "\n",
    "pos = dataset[dataset['sentiment'] == 1]['review'].str.len()\n",
    "sns.distplot(pos, label='Positive')\n",
    "\n",
    "neg = dataset[dataset['sentiment'] == 0]['review'].str.len()\n",
    "sns.distplot(neg, label='Ngative')\n",
    "\n",
    "plt.title('Distribution by Length')\n",
    "plt.legend()"
   ]
  },
  {
   "cell_type": "code",
   "execution_count": 395,
   "metadata": {},
   "outputs": [],
   "source": [
    "count1 = Counter(\" \".join(dataset[dataset['sentiment'] == 1]['review']).split()).most_common(30)\n",
    "data1 = pd.DataFrame.from_dict(count1)\n",
    "data1 = data1.rename(columns={0: \"words of pos\", 1: \"count\"})\n",
    "\n",
    "count2 = Counter(\" \".join(dataset[dataset['sentiment'] == 0]['review']).split()).most_common(30)\n",
    "data2 = pd.DataFrame.from_dict(count2)\n",
    "data2 = data2.rename(columns={0: \"words of neg\", 1: \"count_\"})"
   ]
  },
  {
   "cell_type": "markdown",
   "metadata": {},
   "source": [
    "#### Graph for top 30 words of positive"
   ]
  },
  {
   "cell_type": "code",
   "execution_count": 396,
   "metadata": {},
   "outputs": [
    {
     "data": {
      "image/png": "[encoded data removed]",
      "text/plain": [
       "<Figure size 1440x1080 with 1 Axes>"
      ]
     },
     "metadata": {
      "needs_background": "light"
     },
     "output_type": "display_data"
    }
   ],
   "source": [
    "data1.plot.bar(legend = False, color='purple', figsize=(20,15))\n",
    "y_pos = np.arange(len(data1[\"words of pos\"]))\n",
    "plt.xticks(y_pos, data1[\"words of pos\"])\n",
    "plt.title('Top 30 words of pos')\n",
    "plt.xlabel('words')\n",
    "plt.ylabel('number')\n",
    "plt.show()"
   ]
  },
  {
   "cell_type": "markdown",
   "metadata": {},
   "source": [
    "#### Graph for top 30 words of negative"
   ]
  },
  {
   "cell_type": "code",
   "execution_count": 397,
   "metadata": {},
   "outputs": [
    {
     "data": {
      "image/png": "[encoded data removed]",
      "text/plain": [
       "<Figure size 1440x1080 with 1 Axes>"
      ]
     },
     "metadata": {
      "needs_background": "light"
     },
     "output_type": "display_data"
    }
   ],
   "source": [
    "data2.plot.bar(legend = False, color='purple', figsize=(20,15))\n",
    "y_pos = np.arange(len(data2[\"words of neg\"]))\n",
    "plt.xticks(y_pos, data2[\"words of neg\"])\n",
    "plt.title('Top 30 words of neg')\n",
    "plt.xlabel('words')\n",
    "plt.ylabel('number')\n",
    "plt.show()"
   ]
  },
  {
   "cell_type": "markdown",
   "metadata": {},
   "source": [
    "### Word Cloud"
   ]
  },
  {
   "cell_type": "code",
   "execution_count": 398,
   "metadata": {},
   "outputs": [],
   "source": [
    "all_string = []\n",
    "for t in dataset.review:\n",
    "    all_string.append(t)\n",
    "all_string = pd.Series(all_string).str.cat(sep=' ')"
   ]
  },
  {
   "cell_type": "code",
   "execution_count": 399,
   "metadata": {},
   "outputs": [
    {
     "data": {
      "image/png": "[encoded data removed]",
      "text/plain": [
       "<Figure size 864x720 with 1 Axes>"
      ]
     },
     "metadata": {
      "needs_background": "light"
     },
     "output_type": "display_data"
    }
   ],
   "source": [
    "wordcloud = WordCloud(width=1600, height=800,max_font_size=200,colormap='magma').generate(all_string)\n",
    "plt.figure(figsize=(12,10))\n",
    "plt.imshow(wordcloud, interpolation=\"bilinear\")\n",
    "plt.axis(\"off\")\n",
    "plt.show()"
   ]
  },
  {
   "cell_type": "markdown",
   "metadata": {},
   "source": [
    "## Split Data"
   ]
  },
  {
   "cell_type": "code",
   "execution_count": 479,
   "metadata": {},
   "outputs": [
    {
     "data": {
      "text/html": [
       "<div>\n",
       "<style scoped>\n",
       "    .dataframe tbody tr th:only-of-type {\n",
       "        vertical-align: middle;\n",
       "    }\n",
       "\n",
       "    .dataframe tbody tr th {\n",
       "        vertical-align: top;\n",
       "    }\n",
       "\n",
       "    .dataframe thead th {\n",
       "        text-align: right;\n",
       "    }\n",
       "</style>\n",
       "<table border=\"1\" class=\"dataframe\">\n",
       "  <thead>\n",
       "    <tr style=\"text-align: right;\">\n",
       "      <th></th>\n",
       "      <th>review</th>\n",
       "      <th>sentiment</th>\n",
       "    </tr>\n",
       "  </thead>\n",
       "  <tbody>\n",
       "    <tr>\n",
       "      <td>0</td>\n",
       "      <td>One of the other reviewers has mentioned that ...</td>\n",
       "      <td>positive</td>\n",
       "    </tr>\n",
       "    <tr>\n",
       "      <td>1</td>\n",
       "      <td>A wonderful little production. The filming tec...</td>\n",
       "      <td>positive</td>\n",
       "    </tr>\n",
       "    <tr>\n",
       "      <td>2</td>\n",
       "      <td>I thought this was a wonderful way to spend ti...</td>\n",
       "      <td>positive</td>\n",
       "    </tr>\n",
       "    <tr>\n",
       "      <td>3</td>\n",
       "      <td>Basically there's a family where a little boy ...</td>\n",
       "      <td>negative</td>\n",
       "    </tr>\n",
       "    <tr>\n",
       "      <td>4</td>\n",
       "      <td>Petter Mattei's \"Love in the Time of Money\" is...</td>\n",
       "      <td>positive</td>\n",
       "    </tr>\n",
       "    <tr>\n",
       "      <td>...</td>\n",
       "      <td>...</td>\n",
       "      <td>...</td>\n",
       "    </tr>\n",
       "    <tr>\n",
       "      <td>49995</td>\n",
       "      <td>I thought this movie did a down right good job...</td>\n",
       "      <td>positive</td>\n",
       "    </tr>\n",
       "    <tr>\n",
       "      <td>49996</td>\n",
       "      <td>Bad plot, bad dialogue, bad acting, idiotic di...</td>\n",
       "      <td>negative</td>\n",
       "    </tr>\n",
       "    <tr>\n",
       "      <td>49997</td>\n",
       "      <td>I am a Catholic taught in parochial elementary...</td>\n",
       "      <td>negative</td>\n",
       "    </tr>\n",
       "    <tr>\n",
       "      <td>49998</td>\n",
       "      <td>I'm going to have to disagree with the previou...</td>\n",
       "      <td>negative</td>\n",
       "    </tr>\n",
       "    <tr>\n",
       "      <td>49999</td>\n",
       "      <td>No one expects the Star Trek movies to be high...</td>\n",
       "      <td>negative</td>\n",
       "    </tr>\n",
       "  </tbody>\n",
       "</table>\n",
       "<p>50000 rows × 2 columns</p>\n",
       "</div>"
      ],
      "text/plain": [
       "                                                  review sentiment\n",
       "0      One of the other reviewers has mentioned that ...  positive\n",
       "1      A wonderful little production. The filming tec...  positive\n",
       "2      I thought this was a wonderful way to spend ti...  positive\n",
       "3      Basically there's a family where a little boy ...  negative\n",
       "4      Petter Mattei's \"Love in the Time of Money\" is...  positive\n",
       "...                                                  ...       ...\n",
       "49995  I thought this movie did a down right good job...  positive\n",
       "49996  Bad plot, bad dialogue, bad acting, idiotic di...  negative\n",
       "49997  I am a Catholic taught in parochial elementary...  negative\n",
       "49998  I'm going to have to disagree with the previou...  negative\n",
       "49999  No one expects the Star Trek movies to be high...  negative\n",
       "\n",
       "[50000 rows x 2 columns]"
      ]
     },
     "execution_count": 479,
     "metadata": {},
     "output_type": "execute_result"
    }
   ],
   "source": [
    "dataset"
   ]
  },
  {
   "cell_type": "code",
   "execution_count": 480,
   "metadata": {},
   "outputs": [],
   "source": [
    "dataset['sentiment'] = [1 if i=='positive' else 0 for i in dataset['sentiment']]"
   ]
  },
  {
   "cell_type": "code",
   "execution_count": 481,
   "metadata": {},
   "outputs": [
    {
     "data": {
      "text/html": [
       "<div>\n",
       "<style scoped>\n",
       "    .dataframe tbody tr th:only-of-type {\n",
       "        vertical-align: middle;\n",
       "    }\n",
       "\n",
       "    .dataframe tbody tr th {\n",
       "        vertical-align: top;\n",
       "    }\n",
       "\n",
       "    .dataframe thead th {\n",
       "        text-align: right;\n",
       "    }\n",
       "</style>\n",
       "<table border=\"1\" class=\"dataframe\">\n",
       "  <thead>\n",
       "    <tr style=\"text-align: right;\">\n",
       "      <th></th>\n",
       "      <th>review</th>\n",
       "      <th>sentiment</th>\n",
       "    </tr>\n",
       "  </thead>\n",
       "  <tbody>\n",
       "    <tr>\n",
       "      <td>0</td>\n",
       "      <td>One of the other reviewers has mentioned that ...</td>\n",
       "      <td>1</td>\n",
       "    </tr>\n",
       "    <tr>\n",
       "      <td>1</td>\n",
       "      <td>A wonderful little production. The filming tec...</td>\n",
       "      <td>1</td>\n",
       "    </tr>\n",
       "    <tr>\n",
       "      <td>2</td>\n",
       "      <td>I thought this was a wonderful way to spend ti...</td>\n",
       "      <td>1</td>\n",
       "    </tr>\n",
       "    <tr>\n",
       "      <td>3</td>\n",
       "      <td>Basically there's a family where a little boy ...</td>\n",
       "      <td>0</td>\n",
       "    </tr>\n",
       "    <tr>\n",
       "      <td>4</td>\n",
       "      <td>Petter Mattei's \"Love in the Time of Money\" is...</td>\n",
       "      <td>1</td>\n",
       "    </tr>\n",
       "    <tr>\n",
       "      <td>...</td>\n",
       "      <td>...</td>\n",
       "      <td>...</td>\n",
       "    </tr>\n",
       "    <tr>\n",
       "      <td>49995</td>\n",
       "      <td>I thought this movie did a down right good job...</td>\n",
       "      <td>1</td>\n",
       "    </tr>\n",
       "    <tr>\n",
       "      <td>49996</td>\n",
       "      <td>Bad plot, bad dialogue, bad acting, idiotic di...</td>\n",
       "      <td>0</td>\n",
       "    </tr>\n",
       "    <tr>\n",
       "      <td>49997</td>\n",
       "      <td>I am a Catholic taught in parochial elementary...</td>\n",
       "      <td>0</td>\n",
       "    </tr>\n",
       "    <tr>\n",
       "      <td>49998</td>\n",
       "      <td>I'm going to have to disagree with the previou...</td>\n",
       "      <td>0</td>\n",
       "    </tr>\n",
       "    <tr>\n",
       "      <td>49999</td>\n",
       "      <td>No one expects the Star Trek movies to be high...</td>\n",
       "      <td>0</td>\n",
       "    </tr>\n",
       "  </tbody>\n",
       "</table>\n",
       "<p>50000 rows × 2 columns</p>\n",
       "</div>"
      ],
      "text/plain": [
       "                                                  review  sentiment\n",
       "0      One of the other reviewers has mentioned that ...          1\n",
       "1      A wonderful little production. The filming tec...          1\n",
       "2      I thought this was a wonderful way to spend ti...          1\n",
       "3      Basically there's a family where a little boy ...          0\n",
       "4      Petter Mattei's \"Love in the Time of Money\" is...          1\n",
       "...                                                  ...        ...\n",
       "49995  I thought this movie did a down right good job...          1\n",
       "49996  Bad plot, bad dialogue, bad acting, idiotic di...          0\n",
       "49997  I am a Catholic taught in parochial elementary...          0\n",
       "49998  I'm going to have to disagree with the previou...          0\n",
       "49999  No one expects the Star Trek movies to be high...          0\n",
       "\n",
       "[50000 rows x 2 columns]"
      ]
     },
     "execution_count": 481,
     "metadata": {},
     "output_type": "execute_result"
    }
   ],
   "source": [
    "dataset"
   ]
  },
  {
   "cell_type": "code",
   "execution_count": 482,
   "metadata": {},
   "outputs": [],
   "source": [
    "target = dataset['sentiment'].values.tolist()\n",
    "data = dataset['review'].values.tolist()"
   ]
  },
  {
   "cell_type": "code",
   "execution_count": 483,
   "metadata": {},
   "outputs": [],
   "source": [
    "cutoff = int(len(data) * 0.80)\n",
    "x_train, x_test = data[:cutoff], data[cutoff:]\n",
    "y_train, y_test = target[:cutoff], target[cutoff:]"
   ]
  },
  {
   "cell_type": "code",
   "execution_count": 484,
   "metadata": {},
   "outputs": [
    {
     "data": {
      "text/plain": [
       "\"What an empty and lack lustre rendition of the classic novel. I do wish people would stop messing about with classics when they clearly have no idea of the real intention or point of the original. This version is no different. I felt that the Ralph Fiennes version is much worse though as the casting of Juliette brioche as Kathy has got to be the worst casting decision EVER...anyway back to this version. It aims to make the story relevant to a contemporary setting and in a musical style. It succeeds in both but high art it is nit. Throwaway viewing for a rainy day maybe...The direction was average and the editing abysmal. Worse than the old Quincy. Deepak Verma does a great turn as Hindley and is in fact one of Britains wasted talents. The part of Heath was played with great charm and belief and I think that the casting is the strongest point of this project. Although a more talented director would have made better use of the facilities he had. Its clear that he was a director for hire and didn't instill the project with the passion that it deserved.\""
      ]
     },
     "execution_count": 484,
     "metadata": {},
     "output_type": "execute_result"
    }
   ],
   "source": [
    "x_train[500]"
   ]
  },
  {
   "cell_type": "code",
   "execution_count": 485,
   "metadata": {},
   "outputs": [
    {
     "data": {
      "text/plain": [
       "\"If you want just about everything you want to know about WWII from multiple perspectives, this DVD delivers, you WILL learn new things guaranteed, so much so that you won't need any other documentary's on the subject. Get this, watch it, learn from it. Good for school use as well. As a bonus, watch this with Tora tora tora, saving private ryan, patton, band of brothers, a bridge too far, the longest day and other WWII epics along with this to make your knowledge of WWII even more complete. Sir Laurence Oliver's voice adds to the overall atmosphere of each episode in this 26 part series. Seriously you won't find a better WWII documentary set on the subject. PERFECT 10!!!\""
      ]
     },
     "execution_count": 485,
     "metadata": {},
     "output_type": "execute_result"
    }
   ],
   "source": [
    "x_train[800]"
   ]
  },
  {
   "cell_type": "code",
   "execution_count": 486,
   "metadata": {},
   "outputs": [
    {
     "data": {
      "text/plain": [
       "1"
      ]
     },
     "execution_count": 486,
     "metadata": {},
     "output_type": "execute_result"
    }
   ],
   "source": [
    "y_train[800]"
   ]
  },
  {
   "cell_type": "code",
   "execution_count": 487,
   "metadata": {},
   "outputs": [],
   "source": [
    "num_words = 10000\n",
    "tokenizer = Tokenizer(num_words=num_words)"
   ]
  },
  {
   "cell_type": "code",
   "execution_count": 488,
   "metadata": {},
   "outputs": [],
   "source": [
    "tokenizer.fit_on_texts(data)"
   ]
  },
  {
   "cell_type": "code",
   "execution_count": 489,
   "metadata": {},
   "outputs": [
    {
     "data": {
      "text/plain": [
       "{'the': 1,\n",
       " 'and': 2,\n",
       " 'a': 3,\n",
       " 'of': 4,\n",
       " 'to': 5,\n",
       " 'is': 6,\n",
       " 'in': 7,\n",
       " 'it': 8,\n",
       " 'i': 9,\n",
       " 'this': 10,\n",
       " 'that': 11,\n",
       " 'was': 12,\n",
       " 'as': 13,\n",
       " 'for': 14,\n",
       " 'with': 15,\n",
       " 'movie': 16,\n",
       " 'but': 17,\n",
       " 'film': 18,\n",
       " 'on': 19,\n",
       " 'not': 20,\n",
       " 'you': 21,\n",
       " 'are': 22,\n",
       " 'his': 23,\n",
       " 'have': 24,\n",
       " 'be': 25,\n",
       " 'one': 26,\n",
       " 'he': 27,\n",
       " 'all': 28,\n",
       " 'at': 29,\n",
       " 'by': 30,\n",
       " 'an': 31,\n",
       " 'they': 32,\n",
       " 'so': 33,\n",
       " 'who': 34,\n",
       " 'from': 35,\n",
       " 'like': 36,\n",
       " 'or': 37,\n",
       " 'just': 38,\n",
       " 'her': 39,\n",
       " 'about': 40,\n",
       " 'out': 41,\n",
       " 'if': 42,\n",
       " \"it's\": 43,\n",
       " 'has': 44,\n",
       " 'there': 45,\n",
       " 'some': 46,\n",
       " 'what': 47,\n",
       " 'good': 48,\n",
       " 'when': 49,\n",
       " 'more': 50,\n",
       " 'very': 51,\n",
       " 'up': 52,\n",
       " 'no': 53,\n",
       " 'time': 54,\n",
       " 'my': 55,\n",
       " 'even': 56,\n",
       " 'would': 57,\n",
       " 'she': 58,\n",
       " 'which': 59,\n",
       " 'only': 60,\n",
       " 'really': 61,\n",
       " 'see': 62,\n",
       " 'story': 63,\n",
       " 'their': 64,\n",
       " 'had': 65,\n",
       " 'can': 66,\n",
       " 'me': 67,\n",
       " 'well': 68,\n",
       " 'were': 69,\n",
       " 'than': 70,\n",
       " 'much': 71,\n",
       " 'we': 72,\n",
       " 'bad': 73,\n",
       " 'been': 74,\n",
       " 'get': 75,\n",
       " 'do': 76,\n",
       " 'great': 77,\n",
       " 'other': 78,\n",
       " 'will': 79,\n",
       " 'also': 80,\n",
       " 'into': 81,\n",
       " 'people': 82,\n",
       " 'because': 83,\n",
       " 'how': 84,\n",
       " 'first': 85,\n",
       " 'him': 86,\n",
       " 'most': 87,\n",
       " \"don't\": 88,\n",
       " 'made': 89,\n",
       " 'then': 90,\n",
       " 'them': 91,\n",
       " 'its': 92,\n",
       " 'make': 93,\n",
       " 'way': 94,\n",
       " 'too': 95,\n",
       " 'movies': 96,\n",
       " 'could': 97,\n",
       " 'any': 98,\n",
       " 'after': 99,\n",
       " 'think': 100,\n",
       " 'characters': 101,\n",
       " 'watch': 102,\n",
       " 'films': 103,\n",
       " 'two': 104,\n",
       " 'many': 105,\n",
       " 'seen': 106,\n",
       " 'character': 107,\n",
       " 'being': 108,\n",
       " 'never': 109,\n",
       " 'plot': 110,\n",
       " 'love': 111,\n",
       " 'acting': 112,\n",
       " 'life': 113,\n",
       " 'did': 114,\n",
       " 'best': 115,\n",
       " 'where': 116,\n",
       " 'know': 117,\n",
       " 'show': 118,\n",
       " 'little': 119,\n",
       " 'over': 120,\n",
       " 'off': 121,\n",
       " 'ever': 122,\n",
       " 'does': 123,\n",
       " 'your': 124,\n",
       " 'better': 125,\n",
       " 'end': 126,\n",
       " 'man': 127,\n",
       " 'scene': 128,\n",
       " 'still': 129,\n",
       " 'say': 130,\n",
       " 'these': 131,\n",
       " 'here': 132,\n",
       " 'why': 133,\n",
       " 'scenes': 134,\n",
       " 'while': 135,\n",
       " 'something': 136,\n",
       " 'such': 137,\n",
       " 'go': 138,\n",
       " 'through': 139,\n",
       " 'back': 140,\n",
       " 'should': 141,\n",
       " 'those': 142,\n",
       " 'real': 143,\n",
       " \"i'm\": 144,\n",
       " 'now': 145,\n",
       " 'watching': 146,\n",
       " 'thing': 147,\n",
       " \"doesn't\": 148,\n",
       " 'actors': 149,\n",
       " 'though': 150,\n",
       " 'funny': 151,\n",
       " 'years': 152,\n",
       " \"didn't\": 153,\n",
       " 'old': 154,\n",
       " 'another': 155,\n",
       " 'work': 156,\n",
       " 'before': 157,\n",
       " 'actually': 158,\n",
       " '10': 159,\n",
       " 'nothing': 160,\n",
       " 'makes': 161,\n",
       " 'look': 162,\n",
       " 'director': 163,\n",
       " 'find': 164,\n",
       " 'going': 165,\n",
       " 'same': 166,\n",
       " 'new': 167,\n",
       " 'lot': 168,\n",
       " 'every': 169,\n",
       " 'few': 170,\n",
       " 'part': 171,\n",
       " 'again': 172,\n",
       " 'cast': 173,\n",
       " 'down': 174,\n",
       " 'us': 175,\n",
       " 'things': 176,\n",
       " 'want': 177,\n",
       " 'quite': 178,\n",
       " 'pretty': 179,\n",
       " 'world': 180,\n",
       " 'horror': 181,\n",
       " 'around': 182,\n",
       " 'seems': 183,\n",
       " \"can't\": 184,\n",
       " 'young': 185,\n",
       " 'take': 186,\n",
       " 'however': 187,\n",
       " 'got': 188,\n",
       " 'thought': 189,\n",
       " 'big': 190,\n",
       " 'fact': 191,\n",
       " 'enough': 192,\n",
       " 'long': 193,\n",
       " 'both': 194,\n",
       " \"that's\": 195,\n",
       " 'give': 196,\n",
       " \"i've\": 197,\n",
       " 'own': 198,\n",
       " 'between': 199,\n",
       " 'may': 200,\n",
       " 'right': 201,\n",
       " 'comedy': 202,\n",
       " 'series': 203,\n",
       " 'action': 204,\n",
       " 'must': 205,\n",
       " 'music': 206,\n",
       " 'without': 207,\n",
       " 'times': 208,\n",
       " 'saw': 209,\n",
       " 'always': 210,\n",
       " 'original': 211,\n",
       " \"isn't\": 212,\n",
       " 'role': 213,\n",
       " 'come': 214,\n",
       " 'almost': 215,\n",
       " 'gets': 216,\n",
       " 'interesting': 217,\n",
       " 'guy': 218,\n",
       " 'point': 219,\n",
       " 'done': 220,\n",
       " \"there's\": 221,\n",
       " 'whole': 222,\n",
       " 'least': 223,\n",
       " 'far': 224,\n",
       " 'bit': 225,\n",
       " 'script': 226,\n",
       " 'minutes': 227,\n",
       " 'feel': 228,\n",
       " 'anything': 229,\n",
       " 'making': 230,\n",
       " 'might': 231,\n",
       " 'since': 232,\n",
       " '2': 233,\n",
       " 'am': 234,\n",
       " 'family': 235,\n",
       " \"he's\": 236,\n",
       " 'last': 237,\n",
       " 'probably': 238,\n",
       " 'tv': 239,\n",
       " 'performance': 240,\n",
       " 'kind': 241,\n",
       " 'away': 242,\n",
       " 'yet': 243,\n",
       " 'fun': 244,\n",
       " 'worst': 245,\n",
       " 'sure': 246,\n",
       " 'rather': 247,\n",
       " 'hard': 248,\n",
       " 'girl': 249,\n",
       " 'anyone': 250,\n",
       " 'each': 251,\n",
       " 'played': 252,\n",
       " 'day': 253,\n",
       " 'found': 254,\n",
       " 'looking': 255,\n",
       " 'woman': 256,\n",
       " 'screen': 257,\n",
       " 'our': 258,\n",
       " 'although': 259,\n",
       " 'especially': 260,\n",
       " 'believe': 261,\n",
       " 'having': 262,\n",
       " 'trying': 263,\n",
       " 'course': 264,\n",
       " 'dvd': 265,\n",
       " 'set': 266,\n",
       " 'everything': 267,\n",
       " 'goes': 268,\n",
       " 'comes': 269,\n",
       " 'put': 270,\n",
       " 'ending': 271,\n",
       " 'maybe': 272,\n",
       " 'place': 273,\n",
       " 'book': 274,\n",
       " 'shows': 275,\n",
       " 'three': 276,\n",
       " 'worth': 277,\n",
       " 'different': 278,\n",
       " 'main': 279,\n",
       " 'once': 280,\n",
       " 'sense': 281,\n",
       " 'american': 282,\n",
       " 'reason': 283,\n",
       " 'looks': 284,\n",
       " 'effects': 285,\n",
       " 'watched': 286,\n",
       " 'play': 287,\n",
       " 'true': 288,\n",
       " 'actor': 289,\n",
       " 'money': 290,\n",
       " \"wasn't\": 291,\n",
       " 'job': 292,\n",
       " 'together': 293,\n",
       " 'war': 294,\n",
       " 'someone': 295,\n",
       " 'plays': 296,\n",
       " 'high': 297,\n",
       " 'instead': 298,\n",
       " 'during': 299,\n",
       " 'year': 300,\n",
       " 'said': 301,\n",
       " 'half': 302,\n",
       " 'everyone': 303,\n",
       " 'takes': 304,\n",
       " 'later': 305,\n",
       " 'seem': 306,\n",
       " 'audience': 307,\n",
       " 'special': 308,\n",
       " '1': 309,\n",
       " 'beautiful': 310,\n",
       " 'left': 311,\n",
       " 'himself': 312,\n",
       " 'seeing': 313,\n",
       " 'john': 314,\n",
       " 'night': 315,\n",
       " 'black': 316,\n",
       " 'version': 317,\n",
       " 'shot': 318,\n",
       " 'excellent': 319,\n",
       " 'idea': 320,\n",
       " 'house': 321,\n",
       " 'mind': 322,\n",
       " 'star': 323,\n",
       " 'wife': 324,\n",
       " 'fan': 325,\n",
       " 'death': 326,\n",
       " 'used': 327,\n",
       " 'else': 328,\n",
       " 'simply': 329,\n",
       " 'nice': 330,\n",
       " 'budget': 331,\n",
       " 'poor': 332,\n",
       " 'completely': 333,\n",
       " 'short': 334,\n",
       " 'second': 335,\n",
       " \"you're\": 336,\n",
       " '3': 337,\n",
       " 'read': 338,\n",
       " 'less': 339,\n",
       " 'along': 340,\n",
       " 'top': 341,\n",
       " 'help': 342,\n",
       " 'home': 343,\n",
       " 'men': 344,\n",
       " 'either': 345,\n",
       " 'line': 346,\n",
       " 'boring': 347,\n",
       " 'dead': 348,\n",
       " 'friends': 349,\n",
       " 'kids': 350,\n",
       " 'production': 351,\n",
       " 'try': 352,\n",
       " 'enjoy': 353,\n",
       " 'camera': 354,\n",
       " 'wrong': 355,\n",
       " 'use': 356,\n",
       " 'given': 357,\n",
       " 'low': 358,\n",
       " 'classic': 359,\n",
       " 'need': 360,\n",
       " 'father': 361,\n",
       " 'full': 362,\n",
       " 'stupid': 363,\n",
       " 'until': 364,\n",
       " 'next': 365,\n",
       " 'performances': 366,\n",
       " 'school': 367,\n",
       " 'hollywood': 368,\n",
       " 'rest': 369,\n",
       " 'truly': 370,\n",
       " 'awful': 371,\n",
       " 'video': 372,\n",
       " 'couple': 373,\n",
       " 'start': 374,\n",
       " 'sex': 375,\n",
       " 'recommend': 376,\n",
       " 'women': 377,\n",
       " 'let': 378,\n",
       " 'tell': 379,\n",
       " 'terrible': 380,\n",
       " 'mean': 381,\n",
       " 'remember': 382,\n",
       " 'came': 383,\n",
       " 'getting': 384,\n",
       " 'understand': 385,\n",
       " 'perhaps': 386,\n",
       " 'moments': 387,\n",
       " 'name': 388,\n",
       " 'keep': 389,\n",
       " 'face': 390,\n",
       " 'itself': 391,\n",
       " 'wonderful': 392,\n",
       " 'human': 393,\n",
       " 'playing': 394,\n",
       " 'style': 395,\n",
       " 'small': 396,\n",
       " 'episode': 397,\n",
       " 'perfect': 398,\n",
       " 'person': 399,\n",
       " 'others': 400,\n",
       " 'doing': 401,\n",
       " 'often': 402,\n",
       " 'early': 403,\n",
       " 'definitely': 404,\n",
       " 'written': 405,\n",
       " 'stars': 406,\n",
       " 'head': 407,\n",
       " 'lines': 408,\n",
       " 'dialogue': 409,\n",
       " 'gives': 410,\n",
       " 'piece': 411,\n",
       " \"couldn't\": 412,\n",
       " 'went': 413,\n",
       " 'finally': 414,\n",
       " 'mother': 415,\n",
       " 'case': 416,\n",
       " 'title': 417,\n",
       " 'absolutely': 418,\n",
       " 'boy': 419,\n",
       " 'live': 420,\n",
       " 'yes': 421,\n",
       " 'laugh': 422,\n",
       " 'certainly': 423,\n",
       " 'liked': 424,\n",
       " 'become': 425,\n",
       " 'worse': 426,\n",
       " 'entertaining': 427,\n",
       " 'sort': 428,\n",
       " 'oh': 429,\n",
       " 'loved': 430,\n",
       " 'lost': 431,\n",
       " 'called': 432,\n",
       " 'hope': 433,\n",
       " 'picture': 434,\n",
       " 'felt': 435,\n",
       " 'entire': 436,\n",
       " 'mr': 437,\n",
       " 'several': 438,\n",
       " 'based': 439,\n",
       " 'supposed': 440,\n",
       " 'overall': 441,\n",
       " 'cinema': 442,\n",
       " 'friend': 443,\n",
       " 'guys': 444,\n",
       " 'sound': 445,\n",
       " 'drama': 446,\n",
       " 'problem': 447,\n",
       " 'against': 448,\n",
       " 'waste': 449,\n",
       " 'white': 450,\n",
       " 'beginning': 451,\n",
       " '4': 452,\n",
       " '5': 453,\n",
       " 'fans': 454,\n",
       " 'totally': 455,\n",
       " 'dark': 456,\n",
       " 'care': 457,\n",
       " 'humor': 458,\n",
       " 'wanted': 459,\n",
       " \"she's\": 460,\n",
       " 'seemed': 461,\n",
       " 'direction': 462,\n",
       " 'under': 463,\n",
       " 'children': 464,\n",
       " 'game': 465,\n",
       " 'despite': 466,\n",
       " 'lives': 467,\n",
       " 'lead': 468,\n",
       " 'guess': 469,\n",
       " 'example': 470,\n",
       " 'already': 471,\n",
       " 'final': 472,\n",
       " \"you'll\": 473,\n",
       " 'evil': 474,\n",
       " 'turn': 475,\n",
       " 'throughout': 476,\n",
       " 'becomes': 477,\n",
       " 'unfortunately': 478,\n",
       " 'able': 479,\n",
       " 'quality': 480,\n",
       " \"i'd\": 481,\n",
       " 'days': 482,\n",
       " 'history': 483,\n",
       " 'fine': 484,\n",
       " 'side': 485,\n",
       " 'wants': 486,\n",
       " 'horrible': 487,\n",
       " 'heart': 488,\n",
       " 'writing': 489,\n",
       " 'amazing': 490,\n",
       " 'flick': 491,\n",
       " 'b': 492,\n",
       " 'killer': 493,\n",
       " 'run': 494,\n",
       " 'son': 495,\n",
       " '\\x96': 496,\n",
       " 'michael': 497,\n",
       " 'works': 498,\n",
       " 'close': 499,\n",
       " \"they're\": 500,\n",
       " 'act': 501,\n",
       " 'art': 502,\n",
       " 'kill': 503,\n",
       " 'matter': 504,\n",
       " 'etc': 505,\n",
       " 'tries': 506,\n",
       " \"won't\": 507,\n",
       " 'town': 508,\n",
       " 'past': 509,\n",
       " 'turns': 510,\n",
       " 'enjoyed': 511,\n",
       " 'brilliant': 512,\n",
       " 'gave': 513,\n",
       " 'behind': 514,\n",
       " 'parts': 515,\n",
       " 'stuff': 516,\n",
       " 'genre': 517,\n",
       " 'car': 518,\n",
       " 'favorite': 519,\n",
       " 'eyes': 520,\n",
       " 'directed': 521,\n",
       " 'late': 522,\n",
       " 'hand': 523,\n",
       " 'expect': 524,\n",
       " 'soon': 525,\n",
       " 'hour': 526,\n",
       " 'obviously': 527,\n",
       " 'themselves': 528,\n",
       " 'sometimes': 529,\n",
       " 'killed': 530,\n",
       " 'thinking': 531,\n",
       " 'actress': 532,\n",
       " 'viewer': 533,\n",
       " 'girls': 534,\n",
       " 'starts': 535,\n",
       " 'child': 536,\n",
       " 'myself': 537,\n",
       " 'city': 538,\n",
       " 'decent': 539,\n",
       " 'highly': 540,\n",
       " 'stop': 541,\n",
       " 'type': 542,\n",
       " 'self': 543,\n",
       " 'god': 544,\n",
       " 'says': 545,\n",
       " 'group': 546,\n",
       " 'anyway': 547,\n",
       " 'voice': 548,\n",
       " 'took': 549,\n",
       " 'known': 550,\n",
       " 'kid': 551,\n",
       " 'blood': 552,\n",
       " 'heard': 553,\n",
       " 'happens': 554,\n",
       " 'except': 555,\n",
       " 'fight': 556,\n",
       " 'feeling': 557,\n",
       " 'experience': 558,\n",
       " 'coming': 559,\n",
       " 'slow': 560,\n",
       " 'daughter': 561,\n",
       " 'writer': 562,\n",
       " 'stories': 563,\n",
       " 'moment': 564,\n",
       " 'leave': 565,\n",
       " 'told': 566,\n",
       " 'extremely': 567,\n",
       " 'score': 568,\n",
       " 'violence': 569,\n",
       " 'police': 570,\n",
       " 'involved': 571,\n",
       " 'strong': 572,\n",
       " 'lack': 573,\n",
       " 'chance': 574,\n",
       " 'cannot': 575,\n",
       " 'hit': 576,\n",
       " 'hilarious': 577,\n",
       " 'roles': 578,\n",
       " 's': 579,\n",
       " 'wonder': 580,\n",
       " 'particularly': 581,\n",
       " 'happen': 582,\n",
       " 'ok': 583,\n",
       " 'including': 584,\n",
       " 'save': 585,\n",
       " 'living': 586,\n",
       " 'looked': 587,\n",
       " \"wouldn't\": 588,\n",
       " 'crap': 589,\n",
       " 'simple': 590,\n",
       " 'please': 591,\n",
       " 'murder': 592,\n",
       " 'cool': 593,\n",
       " 'obvious': 594,\n",
       " 'happened': 595,\n",
       " 'complete': 596,\n",
       " 'cut': 597,\n",
       " 'serious': 598,\n",
       " 'age': 599,\n",
       " 'hell': 600,\n",
       " 'attempt': 601,\n",
       " 'ago': 602,\n",
       " 'gore': 603,\n",
       " 'song': 604,\n",
       " 'shown': 605,\n",
       " 'taken': 606,\n",
       " 'english': 607,\n",
       " 'robert': 608,\n",
       " 'james': 609,\n",
       " 'seriously': 610,\n",
       " 'david': 611,\n",
       " 'released': 612,\n",
       " 'reality': 613,\n",
       " 'opening': 614,\n",
       " 'jokes': 615,\n",
       " 'interest': 616,\n",
       " 'across': 617,\n",
       " 'none': 618,\n",
       " 'hero': 619,\n",
       " 'exactly': 620,\n",
       " 'today': 621,\n",
       " 'alone': 622,\n",
       " 'possible': 623,\n",
       " 'sad': 624,\n",
       " 'brother': 625,\n",
       " 'number': 626,\n",
       " 'saying': 627,\n",
       " 'career': 628,\n",
       " \"film's\": 629,\n",
       " 'usually': 630,\n",
       " 'hours': 631,\n",
       " 'cinematography': 632,\n",
       " 'talent': 633,\n",
       " 'view': 634,\n",
       " 'running': 635,\n",
       " 'annoying': 636,\n",
       " 'yourself': 637,\n",
       " 'relationship': 638,\n",
       " 'documentary': 639,\n",
       " 'wish': 640,\n",
       " 'order': 641,\n",
       " 'huge': 642,\n",
       " 'whose': 643,\n",
       " 'shots': 644,\n",
       " 'ridiculous': 645,\n",
       " 'taking': 646,\n",
       " 'light': 647,\n",
       " 'important': 648,\n",
       " 'body': 649,\n",
       " 'middle': 650,\n",
       " 'level': 651,\n",
       " 'ends': 652,\n",
       " 'started': 653,\n",
       " 'call': 654,\n",
       " 'female': 655,\n",
       " 'husband': 656,\n",
       " 'four': 657,\n",
       " 'power': 658,\n",
       " \"i'll\": 659,\n",
       " 'word': 660,\n",
       " 'major': 661,\n",
       " 'turned': 662,\n",
       " 'opinion': 663,\n",
       " 'change': 664,\n",
       " 'mostly': 665,\n",
       " 'usual': 666,\n",
       " 'silly': 667,\n",
       " 'scary': 668,\n",
       " 'beyond': 669,\n",
       " 'somewhat': 670,\n",
       " 'rating': 671,\n",
       " 'happy': 672,\n",
       " 'words': 673,\n",
       " 'ones': 674,\n",
       " 'room': 675,\n",
       " 'knows': 676,\n",
       " 'knew': 677,\n",
       " 'country': 678,\n",
       " 'disappointed': 679,\n",
       " 'talking': 680,\n",
       " 'novel': 681,\n",
       " 'apparently': 682,\n",
       " 'non': 683,\n",
       " 'strange': 684,\n",
       " 'upon': 685,\n",
       " 'attention': 686,\n",
       " 'single': 687,\n",
       " 'finds': 688,\n",
       " 'basically': 689,\n",
       " 'cheap': 690,\n",
       " 'modern': 691,\n",
       " 'due': 692,\n",
       " 'jack': 693,\n",
       " 'musical': 694,\n",
       " 'television': 695,\n",
       " 'problems': 696,\n",
       " 'miss': 697,\n",
       " 'episodes': 698,\n",
       " 'clearly': 699,\n",
       " 'local': 700,\n",
       " 'british': 701,\n",
       " '7': 702,\n",
       " 'thriller': 703,\n",
       " 'talk': 704,\n",
       " 'events': 705,\n",
       " 'five': 706,\n",
       " 'sequence': 707,\n",
       " \"aren't\": 708,\n",
       " 'class': 709,\n",
       " 'french': 710,\n",
       " 'moving': 711,\n",
       " 'ten': 712,\n",
       " 'fast': 713,\n",
       " 'earth': 714,\n",
       " 'tells': 715,\n",
       " 'review': 716,\n",
       " 'predictable': 717,\n",
       " 'team': 718,\n",
       " 'songs': 719,\n",
       " 'comic': 720,\n",
       " 'straight': 721,\n",
       " 'whether': 722,\n",
       " '8': 723,\n",
       " 'die': 724,\n",
       " 'add': 725,\n",
       " 'dialog': 726,\n",
       " 'sets': 727,\n",
       " 'entertainment': 728,\n",
       " 'above': 729,\n",
       " 'future': 730,\n",
       " 'enjoyable': 731,\n",
       " 'appears': 732,\n",
       " 'near': 733,\n",
       " 'space': 734,\n",
       " 'easily': 735,\n",
       " 'hate': 736,\n",
       " 'soundtrack': 737,\n",
       " 'giving': 738,\n",
       " 'bring': 739,\n",
       " 'lots': 740,\n",
       " 'similar': 741,\n",
       " 'romantic': 742,\n",
       " 'george': 743,\n",
       " 'supporting': 744,\n",
       " 'release': 745,\n",
       " 'mention': 746,\n",
       " 'within': 747,\n",
       " 'filmed': 748,\n",
       " 'message': 749,\n",
       " 'sequel': 750,\n",
       " 'clear': 751,\n",
       " 'falls': 752,\n",
       " \"haven't\": 753,\n",
       " 'needs': 754,\n",
       " 'dull': 755,\n",
       " 'bunch': 756,\n",
       " 'suspense': 757,\n",
       " 'surprised': 758,\n",
       " 'eye': 759,\n",
       " 'showing': 760,\n",
       " 'tried': 761,\n",
       " 'sorry': 762,\n",
       " 'certain': 763,\n",
       " 'working': 764,\n",
       " 'easy': 765,\n",
       " 'ways': 766,\n",
       " 'theme': 767,\n",
       " 'theater': 768,\n",
       " 'among': 769,\n",
       " 'named': 770,\n",
       " \"what's\": 771,\n",
       " 'storyline': 772,\n",
       " 'monster': 773,\n",
       " 'king': 774,\n",
       " 'stay': 775,\n",
       " 'effort': 776,\n",
       " 'minute': 777,\n",
       " 'fall': 778,\n",
       " 'stand': 779,\n",
       " 'gone': 780,\n",
       " 'rock': 781,\n",
       " 'using': 782,\n",
       " 'feature': 783,\n",
       " '9': 784,\n",
       " 'comments': 785,\n",
       " 'buy': 786,\n",
       " 'sister': 787,\n",
       " 'typical': 788,\n",
       " 'tale': 789,\n",
       " 'editing': 790,\n",
       " 't': 791,\n",
       " 'avoid': 792,\n",
       " 'mystery': 793,\n",
       " 'deal': 794,\n",
       " 'dr': 795,\n",
       " 'doubt': 796,\n",
       " 'fantastic': 797,\n",
       " 'nearly': 798,\n",
       " 'kept': 799,\n",
       " 'feels': 800,\n",
       " 'subject': 801,\n",
       " 'viewing': 802,\n",
       " 'elements': 803,\n",
       " 'oscar': 804,\n",
       " 'points': 805,\n",
       " 'realistic': 806,\n",
       " 'means': 807,\n",
       " 'okay': 808,\n",
       " 'greatest': 809,\n",
       " 'herself': 810,\n",
       " 'parents': 811,\n",
       " 'check': 812,\n",
       " 'famous': 813,\n",
       " 'imagine': 814,\n",
       " 'richard': 815,\n",
       " 'crime': 816,\n",
       " 'rent': 817,\n",
       " 'viewers': 818,\n",
       " 'form': 819,\n",
       " 'peter': 820,\n",
       " 'actual': 821,\n",
       " 'lady': 822,\n",
       " 'general': 823,\n",
       " 'dog': 824,\n",
       " 'follow': 825,\n",
       " 'believable': 826,\n",
       " 'period': 827,\n",
       " 'red': 828,\n",
       " 'brought': 829,\n",
       " 'move': 830,\n",
       " 'material': 831,\n",
       " 'somehow': 832,\n",
       " 'forget': 833,\n",
       " 'begins': 834,\n",
       " \"'\": 835,\n",
       " 're': 836,\n",
       " 'animation': 837,\n",
       " 'paul': 838,\n",
       " 'reviews': 839,\n",
       " \"you've\": 840,\n",
       " 'leads': 841,\n",
       " 'figure': 842,\n",
       " 'weak': 843,\n",
       " 'surprise': 844,\n",
       " 'sit': 845,\n",
       " 'hear': 846,\n",
       " 'average': 847,\n",
       " 'sequences': 848,\n",
       " 'open': 849,\n",
       " 'killing': 850,\n",
       " 'atmosphere': 851,\n",
       " 'eventually': 852,\n",
       " 'premise': 853,\n",
       " 'learn': 854,\n",
       " 'tom': 855,\n",
       " '20': 856,\n",
       " 'sci': 857,\n",
       " 'wait': 858,\n",
       " 'deep': 859,\n",
       " 'fi': 860,\n",
       " 'expected': 861,\n",
       " 'whatever': 862,\n",
       " 'indeed': 863,\n",
       " 'lame': 864,\n",
       " 'particular': 865,\n",
       " 'poorly': 866,\n",
       " 'note': 867,\n",
       " 'dance': 868,\n",
       " 'imdb': 869,\n",
       " 'shame': 870,\n",
       " 'situation': 871,\n",
       " 'york': 872,\n",
       " 'box': 873,\n",
       " 'third': 874,\n",
       " 'truth': 875,\n",
       " 'decided': 876,\n",
       " 'free': 877,\n",
       " 'hot': 878,\n",
       " \"who's\": 879,\n",
       " 'difficult': 880,\n",
       " 'needed': 881,\n",
       " 'season': 882,\n",
       " 'acted': 883,\n",
       " 'leaves': 884,\n",
       " 'unless': 885,\n",
       " 'romance': 886,\n",
       " 'emotional': 887,\n",
       " 'possibly': 888,\n",
       " 'gay': 889,\n",
       " 'boys': 890,\n",
       " 'footage': 891,\n",
       " 'sexual': 892,\n",
       " 'write': 893,\n",
       " 'western': 894,\n",
       " 'doctor': 895,\n",
       " 'reading': 896,\n",
       " 'became': 897,\n",
       " 'credits': 898,\n",
       " 'forced': 899,\n",
       " 'memorable': 900,\n",
       " 'air': 901,\n",
       " 'otherwise': 902,\n",
       " 'de': 903,\n",
       " 'crew': 904,\n",
       " 'begin': 905,\n",
       " 'question': 906,\n",
       " 'meet': 907,\n",
       " 'male': 908,\n",
       " 'society': 909,\n",
       " 'meets': 910,\n",
       " \"let's\": 911,\n",
       " 'plus': 912,\n",
       " 'cheesy': 913,\n",
       " 'hands': 914,\n",
       " 'superb': 915,\n",
       " 'screenplay': 916,\n",
       " 'street': 917,\n",
       " 'beauty': 918,\n",
       " 'interested': 919,\n",
       " 'features': 920,\n",
       " 'perfectly': 921,\n",
       " 'laughs': 922,\n",
       " 'whom': 923,\n",
       " 'nature': 924,\n",
       " 'stage': 925,\n",
       " 'masterpiece': 926,\n",
       " 'effect': 927,\n",
       " 'forward': 928,\n",
       " 'comment': 929,\n",
       " 'nor': 930,\n",
       " 'previous': 931,\n",
       " 'sounds': 932,\n",
       " 'badly': 933,\n",
       " 'weird': 934,\n",
       " 'e': 935,\n",
       " 'japanese': 936,\n",
       " 'island': 937,\n",
       " 'inside': 938,\n",
       " 'personal': 939,\n",
       " 'quickly': 940,\n",
       " 'total': 941,\n",
       " 'keeps': 942,\n",
       " 'towards': 943,\n",
       " 'result': 944,\n",
       " 'america': 945,\n",
       " 'crazy': 946,\n",
       " 'battle': 947,\n",
       " 'setting': 948,\n",
       " 'earlier': 949,\n",
       " 'worked': 950,\n",
       " 'incredibly': 951,\n",
       " 'background': 952,\n",
       " 'mess': 953,\n",
       " 'cop': 954,\n",
       " 'writers': 955,\n",
       " 'fire': 956,\n",
       " 'realize': 957,\n",
       " 'dumb': 958,\n",
       " 'unique': 959,\n",
       " 'copy': 960,\n",
       " 'powerful': 961,\n",
       " 'lee': 962,\n",
       " 'mark': 963,\n",
       " 'business': 964,\n",
       " 'older': 965,\n",
       " 'rate': 966,\n",
       " 'dramatic': 967,\n",
       " 'pay': 968,\n",
       " 'directors': 969,\n",
       " 'girlfriend': 970,\n",
       " 'following': 971,\n",
       " 'joke': 972,\n",
       " 'plenty': 973,\n",
       " 'directing': 974,\n",
       " 'various': 975,\n",
       " 'creepy': 976,\n",
       " 'baby': 977,\n",
       " 'development': 978,\n",
       " 'appear': 979,\n",
       " 'brings': 980,\n",
       " 'front': 981,\n",
       " 'dream': 982,\n",
       " 'ask': 983,\n",
       " 'water': 984,\n",
       " 'bill': 985,\n",
       " 'rich': 986,\n",
       " 'apart': 987,\n",
       " 'admit': 988,\n",
       " 'fairly': 989,\n",
       " 'joe': 990,\n",
       " 'political': 991,\n",
       " 'leading': 992,\n",
       " 'reasons': 993,\n",
       " 'portrayed': 994,\n",
       " 'spent': 995,\n",
       " 'telling': 996,\n",
       " 'cover': 997,\n",
       " 'fighting': 998,\n",
       " 'present': 999,\n",
       " 'wasted': 1000,\n",
       " ...}"
      ]
     },
     "execution_count": 489,
     "metadata": {},
     "output_type": "execute_result"
    }
   ],
   "source": [
    "tokenizer.word_index"
   ]
  },
  {
   "cell_type": "code",
   "execution_count": 490,
   "metadata": {},
   "outputs": [],
   "source": [
    "x_train_tokens = tokenizer.texts_to_sequences(x_train)"
   ]
  },
  {
   "cell_type": "code",
   "execution_count": 491,
   "metadata": {},
   "outputs": [
    {
     "data": {
      "text/plain": [
       "\"If you want just about everything you want to know about WWII from multiple perspectives, this DVD delivers, you WILL learn new things guaranteed, so much so that you won't need any other documentary's on the subject. Get this, watch it, learn from it. Good for school use as well. As a bonus, watch this with Tora tora tora, saving private ryan, patton, band of brothers, a bridge too far, the longest day and other WWII epics along with this to make your knowledge of WWII even more complete. Sir Laurence Oliver's voice adds to the overall atmosphere of each episode in this 26 part series. Seriously you won't find a better WWII documentary set on the subject. PERFECT 10!!!\""
      ]
     },
     "execution_count": 491,
     "metadata": {},
     "output_type": "execute_result"
    }
   ],
   "source": [
    "x_train[800]"
   ]
  },
  {
   "cell_type": "code",
   "execution_count": 492,
   "metadata": {},
   "outputs": [
    {
     "name": "stdout",
     "output_type": "stream",
     "text": [
      "[42, 21, 177, 38, 40, 267, 21, 177, 5, 117, 40, 2721, 35, 2622, 8175, 10, 265, 1535, 21, 79, 854, 167, 176, 5785, 33, 71, 33, 11, 21, 507, 360, 98, 78, 19, 1, 801, 75, 10, 102, 8, 854, 35, 8, 48, 14, 367, 356, 13, 68, 13, 3, 4338, 102, 10, 15, 1905, 1971, 1733, 9364, 1142, 4, 1176, 3, 3178, 95, 224, 1, 6192, 253, 2, 78, 2721, 7456, 340, 15, 10, 5, 93, 124, 1828, 4, 2721, 56, 50, 596, 2572, 6445, 548, 1531, 5, 1, 441, 851, 4, 251, 397, 7, 10, 8091, 171, 203, 610, 21, 507, 164, 3, 125, 2721, 639, 266, 19, 1, 801, 398, 159]\n"
     ]
    }
   ],
   "source": [
    "print(x_train_tokens[800])"
   ]
  },
  {
   "cell_type": "code",
   "execution_count": 493,
   "metadata": {},
   "outputs": [],
   "source": [
    "x_test_tokens = tokenizer.texts_to_sequences(x_test)"
   ]
  },
  {
   "cell_type": "code",
   "execution_count": 494,
   "metadata": {},
   "outputs": [],
   "source": [
    "num_tokens = [len(tokens) for tokens in x_train_tokens + x_test_tokens]\n",
    "num_tokens = np.array(num_tokens)"
   ]
  },
  {
   "cell_type": "code",
   "execution_count": 495,
   "metadata": {},
   "outputs": [
    {
     "data": {
      "text/plain": [
       "217.12032"
      ]
     },
     "execution_count": 495,
     "metadata": {},
     "output_type": "execute_result"
    }
   ],
   "source": [
    "np.mean(num_tokens)"
   ]
  },
  {
   "cell_type": "code",
   "execution_count": 496,
   "metadata": {},
   "outputs": [
    {
     "data": {
      "text/plain": [
       "2123"
      ]
     },
     "execution_count": 496,
     "metadata": {},
     "output_type": "execute_result"
    }
   ],
   "source": [
    "np.max(num_tokens)"
   ]
  },
  {
   "cell_type": "code",
   "execution_count": 497,
   "metadata": {},
   "outputs": [
    {
     "data": {
      "text/plain": [
       "40521"
      ]
     },
     "execution_count": 497,
     "metadata": {},
     "output_type": "execute_result"
    }
   ],
   "source": [
    "np.argmax(num_tokens)"
   ]
  },
  {
   "cell_type": "code",
   "execution_count": 498,
   "metadata": {},
   "outputs": [
    {
     "data": {
      "text/plain": [
       "\"This is one of the best films I've seen in the last years.Belmonndo and Deneuve shine in their respective roles, he as a naive plantation owner and she as an enigmatic trickster.Words won't do this masterpiece justice,suffice it to say that this is a movie that explores the darker side of love and the pain,humiliation and capacity for self-delusion that go with it, although it's dressed as a film noir. Forget that feeble remake with Jolie and Banderas, see the genuine artticle instead and treat yourselves to some moments of great cinematic beauty.\""
      ]
     },
     "execution_count": 498,
     "metadata": {},
     "output_type": "execute_result"
    }
   ],
   "source": [
    "x_train[21941]"
   ]
  },
  {
   "cell_type": "code",
   "execution_count": 563,
   "metadata": {},
   "outputs": [
    {
     "data": {
      "text/plain": [
       "533"
      ]
     },
     "execution_count": 563,
     "metadata": {},
     "output_type": "execute_result"
    }
   ],
   "source": [
    "max_tokens = np.mean(num_tokens) + 2 * np.std(num_tokens)\n",
    "max_tokens = int(max_tokens)\n",
    "max_tokens"
   ]
  },
  {
   "cell_type": "code",
   "execution_count": 564,
   "metadata": {},
   "outputs": [
    {
     "data": {
      "text/plain": [
       "0.94512"
      ]
     },
     "execution_count": 564,
     "metadata": {},
     "output_type": "execute_result"
    }
   ],
   "source": [
    "np.sum(num_tokens < max_tokens) / len(num_tokens)"
   ]
  },
  {
   "cell_type": "code",
   "execution_count": 565,
   "metadata": {},
   "outputs": [],
   "source": [
    "x_train_pad = pad_sequences(x_train_tokens, maxlen=max_tokens)"
   ]
  },
  {
   "cell_type": "code",
   "execution_count": 566,
   "metadata": {},
   "outputs": [],
   "source": [
    "x_test_pad = pad_sequences(x_test_tokens, maxlen=max_tokens)"
   ]
  },
  {
   "cell_type": "code",
   "execution_count": 567,
   "metadata": {},
   "outputs": [
    {
     "data": {
      "text/plain": [
       "(40000, 533)"
      ]
     },
     "execution_count": 567,
     "metadata": {},
     "output_type": "execute_result"
    }
   ],
   "source": [
    "x_train_pad.shape"
   ]
  },
  {
   "cell_type": "code",
   "execution_count": 568,
   "metadata": {},
   "outputs": [
    {
     "data": {
      "text/plain": [
       "(10000, 533)"
      ]
     },
     "execution_count": 568,
     "metadata": {},
     "output_type": "execute_result"
    }
   ],
   "source": [
    "x_test_pad.shape"
   ]
  },
  {
   "cell_type": "code",
   "execution_count": 569,
   "metadata": {},
   "outputs": [
    {
     "data": {
      "text/plain": [
       "array([  42,   21,  177,   38,   40,  267,   21,  177,    5,  117,   40,\n",
       "       2721,   35, 2622, 8175,   10,  265, 1535,   21,   79,  854,  167,\n",
       "        176, 5785,   33,   71,   33,   11,   21,  507,  360,   98,   78,\n",
       "         19,    1,  801,   75,   10,  102,    8,  854,   35,    8,   48,\n",
       "         14,  367,  356,   13,   68,   13,    3, 4338,  102,   10,   15,\n",
       "       1905, 1971, 1733, 9364, 1142,    4, 1176,    3, 3178,   95,  224,\n",
       "          1, 6192,  253,    2,   78, 2721, 7456,  340,   15,   10,    5,\n",
       "         93,  124, 1828,    4, 2721,   56,   50,  596, 2572, 6445,  548,\n",
       "       1531,    5,    1,  441,  851,    4,  251,  397,    7,   10, 8091,\n",
       "        171,  203,  610,   21,  507,  164,    3,  125, 2721,  639,  266,\n",
       "         19,    1,  801,  398,  159])"
      ]
     },
     "execution_count": 569,
     "metadata": {},
     "output_type": "execute_result"
    }
   ],
   "source": [
    "np.array(x_train_tokens[800])"
   ]
  },
  {
   "cell_type": "code",
   "execution_count": 571,
   "metadata": {},
   "outputs": [
    {
     "data": {
      "text/plain": [
       "array([   0,    0,    0,    0,    0,    0,    0,    0,    0,    0,    0,\n",
       "          0,    0,    0,    0,    0,    0,    0,    0,    0,    0,    0,\n",
       "          0,    0,    0,    0,    0,    0,    0,    0,    0,    0,    0,\n",
       "          0,    0,    0,    0,    0,    0,    0,    0,    0,    0,    0,\n",
       "          0,    0,    0,    0,    0,    0,    0,    0,    0,    0,    0,\n",
       "          0,    0,    0,    0,    0,    0,    0,    0,    0,    0,    0,\n",
       "          0,    0,    0,    0,    0,    0,    0,    0,    0,    0,    0,\n",
       "          0,    0,    0,    0,    0,    0,    0,    0,    0,    0,    0,\n",
       "          0,    0,    0,    0,    0,    0,    0,    0,    0,    0,    0,\n",
       "          0,    0,    0,    0,    0,    0,    0,    0,    0,    0,    0,\n",
       "          0,    0,    0,    0,    0,    0,    0,    0,    0,    0,    0,\n",
       "          0,    0,    0,    0,    0,    0,    0,    0,    0,    0,    0,\n",
       "          0,    0,    0,    0,    0,    0,    0,    0,    0,    0,    0,\n",
       "          0,    0,    0,    0,    0,    0,    0,    0,    0,    0,    0,\n",
       "          0,    0,    0,    0,    0,    0,    0,    0,    0,    0,    0,\n",
       "          0,    0,    0,    0,    0,    0,    0,    0,    0,    0,    0,\n",
       "          0,    0,    0,    0,    0,    0,    0,    0,    0,    0,    0,\n",
       "          0,    0,    0,    0,    0,    0,    0,    0,    0,    0,    0,\n",
       "          0,    0,    0,    0,    0,    0,    0,    0,    0,    0,    0,\n",
       "          0,    0,    0,    0,    0,    0,    0,    0,    0,    0,    0,\n",
       "          0,    0,    0,    0,    0,    0,    0,    0,    0,    0,    0,\n",
       "          0,    0,    0,    0,    0,    0,    0,    0,    0,    0,    0,\n",
       "          0,    0,    0,    0,    0,    0,    0,    0,    0,    0,    0,\n",
       "          0,    0,    0,    0,    0,    0,    0,    0,    0,    0,    0,\n",
       "          0,    0,    0,    0,    0,    0,    0,    0,    0,    0,    0,\n",
       "          0,    0,    0,    0,    0,    0,    0,    0,    0,    0,    0,\n",
       "          0,    0,    0,    0,    0,    0,    0,    0,    0,    0,    0,\n",
       "          0,    0,    0,    0,    0,    0,    0,    0,    0,    0,    0,\n",
       "          0,    0,    0,    0,    0,    0,    0,    0,    0,    0,    0,\n",
       "          0,    0,    0,    0,    0,    0,    0,    0,    0,    0,    0,\n",
       "          0,    0,    0,    0,    0,    0,    0,    0,    0,    0,    0,\n",
       "          0,    0,    0,    0,    0,    0,    0,    0,    0,    0,    0,\n",
       "          0,    0,    0,    0,    0,    0,    0,    0,    0,    0,    0,\n",
       "          0,    0,    0,    0,    0,    0,    0,    0,    0,    0,    0,\n",
       "          0,    0,    0,    0,    0,    0,    0,    0,    0,    0,    0,\n",
       "          0,    0,    0,    0,    0,    0,    0,    0,    0,    0,    0,\n",
       "          0,    0,    0,    0,    0,    0,    0,    0,    0,    0,    0,\n",
       "          0,    0,    0,    0,    0,    0,    0,    0,    0,    0,    0,\n",
       "         42,   21,  177,   38,   40,  267,   21,  177,    5,  117,   40,\n",
       "       2721,   35, 2622, 8175,   10,  265, 1535,   21,   79,  854,  167,\n",
       "        176, 5785,   33,   71,   33,   11,   21,  507,  360,   98,   78,\n",
       "         19,    1,  801,   75,   10,  102,    8,  854,   35,    8,   48,\n",
       "         14,  367,  356,   13,   68,   13,    3, 4338,  102,   10,   15,\n",
       "       1905, 1971, 1733, 9364, 1142,    4, 1176,    3, 3178,   95,  224,\n",
       "          1, 6192,  253,    2,   78, 2721, 7456,  340,   15,   10,    5,\n",
       "         93,  124, 1828,    4, 2721,   56,   50,  596, 2572, 6445,  548,\n",
       "       1531,    5,    1,  441,  851,    4,  251,  397,    7,   10, 8091,\n",
       "        171,  203,  610,   21,  507,  164,    3,  125, 2721,  639,  266,\n",
       "         19,    1,  801,  398,  159], dtype=int32)"
      ]
     },
     "execution_count": 571,
     "metadata": {},
     "output_type": "execute_result"
    }
   ],
   "source": [
    "x_train_pad[800]"
   ]
  },
  {
   "cell_type": "code",
   "execution_count": 572,
   "metadata": {},
   "outputs": [],
   "source": [
    "idx = tokenizer.word_index\n",
    "inverse_map = dict(zip(idx.values(), idx.keys()))"
   ]
  },
  {
   "cell_type": "code",
   "execution_count": 573,
   "metadata": {},
   "outputs": [],
   "source": [
    "def tokens_to_string(tokens):\n",
    "    words = [inverse_map[token] for token in tokens if token!=0]\n",
    "    text = ' '.join(words)\n",
    "    return text"
   ]
  },
  {
   "cell_type": "code",
   "execution_count": 574,
   "metadata": {},
   "outputs": [
    {
     "data": {
      "text/plain": [
       "\"If you want just about everything you want to know about WWII from multiple perspectives, this DVD delivers, you WILL learn new things guaranteed, so much so that you won't need any other documentary's on the subject. Get this, watch it, learn from it. Good for school use as well. As a bonus, watch this with Tora tora tora, saving private ryan, patton, band of brothers, a bridge too far, the longest day and other WWII epics along with this to make your knowledge of WWII even more complete. Sir Laurence Oliver's voice adds to the overall atmosphere of each episode in this 26 part series. Seriously you won't find a better WWII documentary set on the subject. PERFECT 10!!!\""
      ]
     },
     "execution_count": 574,
     "metadata": {},
     "output_type": "execute_result"
    }
   ],
   "source": [
    "x_train[800]"
   ]
  },
  {
   "cell_type": "code",
   "execution_count": 575,
   "metadata": {},
   "outputs": [
    {
     "data": {
      "text/plain": [
       "\"if you want just about everything you want to know about wwii from multiple perspectives this dvd delivers you will learn new things guaranteed so much so that you won't need any other on the subject get this watch it learn from it good for school use as well as a bonus watch this with saving private ryan patton band of brothers a bridge too far the longest day and other wwii epics along with this to make your knowledge of wwii even more complete sir laurence voice adds to the overall atmosphere of each episode in this 26 part series seriously you won't find a better wwii documentary set on the subject perfect 10\""
      ]
     },
     "execution_count": 575,
     "metadata": {},
     "output_type": "execute_result"
    }
   ],
   "source": [
    "tokens_to_string(x_train_tokens[800])"
   ]
  },
  {
   "cell_type": "code",
   "execution_count": 576,
   "metadata": {},
   "outputs": [],
   "source": [
    "model = Sequential()"
   ]
  },
  {
   "cell_type": "code",
   "execution_count": 586,
   "metadata": {},
   "outputs": [],
   "source": [
    "embedding_size = 50"
   ]
  },
  {
   "cell_type": "code",
   "execution_count": 589,
   "metadata": {},
   "outputs": [],
   "source": [
    "model.add(Embedding(input_dim=num_words,\n",
    "                    output_dim=embedding_size,\n",
    "                    input_length=max_tokens,\n",
    "                    name='embedding_layer'))"
   ]
  },
  {
   "cell_type": "code",
   "execution_count": 590,
   "metadata": {},
   "outputs": [],
   "source": [
    "model.add(GRU(units=16, return_sequences=True))\n",
    "model.add(GRU(units=8, return_sequences=True))\n",
    "model.add(GRU(units=4))\n",
    "model.add(Dense(1, activation='sigmoid'))"
   ]
  },
  {
   "cell_type": "code",
   "execution_count": 591,
   "metadata": {},
   "outputs": [],
   "source": [
    "# optimizer = Adam(lr=1e-3)"
   ]
  },
  {
   "cell_type": "code",
   "execution_count": 592,
   "metadata": {},
   "outputs": [],
   "source": [
    "import tensorflow as tf\n",
    "model.compile(loss='binary_crossentropy',\n",
    "              optimizer=tf.keras.optimizers.Adam(lr=0.001),\n",
    "              metrics=['accuracy'])"
   ]
  },
  {
   "cell_type": "code",
   "execution_count": 593,
   "metadata": {},
   "outputs": [
    {
     "name": "stdout",
     "output_type": "stream",
     "text": [
      "Model: \"sequential_6\"\n",
      "_________________________________________________________________\n",
      "Layer (type)                 Output Shape              Param #   \n",
      "=================================================================\n",
      "embedding_layer (Embedding)  (None, 533, 50)           500000    \n",
      "_________________________________________________________________\n",
      "gru_22 (GRU)                 (None, 533, 16)           3216      \n",
      "_________________________________________________________________\n",
      "gru_23 (GRU)                 (None, 533, 8)            600       \n",
      "_________________________________________________________________\n",
      "gru_24 (GRU)                 (None, 4)                 156       \n",
      "_________________________________________________________________\n",
      "dense_7 (Dense)              (None, 1)                 5         \n",
      "=================================================================\n",
      "Total params: 503,977\n",
      "Trainable params: 503,977\n",
      "Non-trainable params: 0\n",
      "_________________________________________________________________\n"
     ]
    }
   ],
   "source": [
    "model.summary()"
   ]
  },
  {
   "cell_type": "code",
   "execution_count": 594,
   "metadata": {},
   "outputs": [],
   "source": [
    "# y_ytain = np.array(y_train)"
   ]
  },
  {
   "cell_type": "code",
   "execution_count": 595,
   "metadata": {},
   "outputs": [
    {
     "name": "stdout",
     "output_type": "stream",
     "text": [
      "Train on 40000 samples\n",
      "Epoch 1/5\n",
      "40000/40000 [==============================] - 424s 11ms/sample - loss: 0.5251 - accuracy: 0.7392\n",
      "Epoch 2/5\n",
      "40000/40000 [==============================] - 371s 9ms/sample - loss: 0.2874 - accuracy: 0.8921\n",
      "Epoch 3/5\n",
      "40000/40000 [==============================] - 381s 10ms/sample - loss: 0.2215 - accuracy: 0.9219\n",
      "Epoch 4/5\n",
      "40000/40000 [==============================] - 384s 10ms/sample - loss: 0.1778 - accuracy: 0.9413\n",
      "Epoch 5/5\n",
      "40000/40000 [==============================] - 381s 10ms/sample - loss: 0.1476 - accuracy: 0.9543\n"
     ]
    },
    {
     "data": {
      "text/plain": [
       "<tensorflow.python.keras.callbacks.History at 0x15c4ce2d0>"
      ]
     },
     "execution_count": 595,
     "metadata": {},
     "output_type": "execute_result"
    }
   ],
   "source": [
    "model.fit(x=np.array(x_train_pad), y=np.array(y_train), epochs=5, batch_size=256)"
   ]
  },
  {
   "cell_type": "code",
   "execution_count": 596,
   "metadata": {},
   "outputs": [
    {
     "name": "stdout",
     "output_type": "stream",
     "text": [
      "10000/10000 [==============================] - 117s 12ms/sample - loss: 0.3248 - accuracy: 0.8842\n"
     ]
    }
   ],
   "source": [
    "result = model.evaluate(np.array(x_test_pad), np.array(y_test))"
   ]
  },
  {
   "cell_type": "code",
   "execution_count": 597,
   "metadata": {},
   "outputs": [
    {
     "data": {
      "text/plain": [
       "0.8842"
      ]
     },
     "execution_count": 597,
     "metadata": {},
     "output_type": "execute_result"
    }
   ],
   "source": [
    "result[1]"
   ]
  },
  {
   "cell_type": "code",
   "execution_count": 598,
   "metadata": {},
   "outputs": [],
   "source": [
    "# model.save('hurriyet_tr.model')\n",
    "# model = Sequential.load('hurriyet_tr.model')"
   ]
  },
  {
   "cell_type": "code",
   "execution_count": 599,
   "metadata": {},
   "outputs": [],
   "source": [
    "y_pred = model.predict(x=x_test_pad[0:1000])\n",
    "y_pred = y_pred.T[0]"
   ]
  },
  {
   "cell_type": "code",
   "execution_count": 600,
   "metadata": {},
   "outputs": [],
   "source": [
    "cls_pred = np.array([1.0 if p>0.5 else 0.0 for p in y_pred])"
   ]
  },
  {
   "cell_type": "code",
   "execution_count": 601,
   "metadata": {},
   "outputs": [],
   "source": [
    "cls_true = np.array(y_test[0:1000])"
   ]
  },
  {
   "cell_type": "code",
   "execution_count": 602,
   "metadata": {},
   "outputs": [],
   "source": [
    "incorrect = np.where(cls_pred != cls_true)\n",
    "incorrect = incorrect[0]"
   ]
  },
  {
   "cell_type": "code",
   "execution_count": 603,
   "metadata": {},
   "outputs": [
    {
     "data": {
      "text/plain": [
       "101"
      ]
     },
     "execution_count": 603,
     "metadata": {},
     "output_type": "execute_result"
    }
   ],
   "source": [
    "len(incorrect)"
   ]
  },
  {
   "cell_type": "code",
   "execution_count": 604,
   "metadata": {},
   "outputs": [
    {
     "data": {
      "text/plain": [
       "2"
      ]
     },
     "execution_count": 604,
     "metadata": {},
     "output_type": "execute_result"
    }
   ],
   "source": [
    "idx = incorrect[0]\n",
    "idx"
   ]
  },
  {
   "cell_type": "code",
   "execution_count": 605,
   "metadata": {},
   "outputs": [
    {
     "data": {
      "text/plain": [
       "'When you look at the cover and read stuff about it an entirely different type of movie comes to mind than what you get here. Then again maybe I read the summary for the other movie called \"Mausolem\" instead as there were two movies of this title released about the same time with both featuring plots that had key elements in common. However, reading stuff about that movie here I know I saw this one and not that one and that movie is even less what one would imagine a movie with that title would be about. I will be honest, I expect more of a zombie type picture and you get that in this movie to some degree. However, there is more stuff involving the occult and strange powers as the opening scene of the people being taken away by the coroner at the beginning of the film will attest to. The movie also has the old theme of kids going somewhere they do not belong to have some crazy party, in this case it is in fact a mausoleum. The other movie I do not think really has that key feature playing that prominent role in the movie and I see the score for this one is higher too, still it was just not the movie I was expecting.'"
      ]
     },
     "execution_count": 605,
     "metadata": {},
     "output_type": "execute_result"
    }
   ],
   "source": [
    "text = x_test[idx]\n",
    "text"
   ]
  },
  {
   "cell_type": "code",
   "execution_count": 606,
   "metadata": {},
   "outputs": [
    {
     "data": {
      "text/plain": [
       "0.881561"
      ]
     },
     "execution_count": 606,
     "metadata": {},
     "output_type": "execute_result"
    }
   ],
   "source": [
    "y_pred[idx]"
   ]
  },
  {
   "cell_type": "code",
   "execution_count": 607,
   "metadata": {},
   "outputs": [
    {
     "data": {
      "text/plain": [
       "0"
      ]
     },
     "execution_count": 607,
     "metadata": {},
     "output_type": "execute_result"
    }
   ],
   "source": [
    "cls_true[idx]"
   ]
  },
  {
   "cell_type": "code",
   "execution_count": 608,
   "metadata": {},
   "outputs": [],
   "source": [
    "text1 = \"It is a good movie.\" #1\n",
    "text2 = \"We should tell the truth.\" #1\n",
    "text3 = \"He isn't walking.\" #0\n",
    "text4 = \"amazing\" #1\n",
    "text5 = \"I do not like it\" #0\n",
    "text6 = \"We should never tell lie.\" #1\n",
    "text7 = \"I don't like it exactly but it is good.\" #1\n",
    "text8 = \"I have no newspapers left.\" #0\n",
    "text9 = \"Someone has eaten all the cookies.\" #0\n",
    "text10 = \"There are none in the bag.\" #0\n",
    "texts = [text1, text2, text3, text4, text5, text6, text7,text8,text9,text10]"
   ]
  },
  {
   "cell_type": "code",
   "execution_count": 609,
   "metadata": {},
   "outputs": [],
   "source": [
    "tokens = tokenizer.texts_to_sequences(texts)\n",
    "# tokens"
   ]
  },
  {
   "cell_type": "code",
   "execution_count": 610,
   "metadata": {},
   "outputs": [
    {
     "data": {
      "text/plain": [
       "(10, 533)"
      ]
     },
     "execution_count": 610,
     "metadata": {},
     "output_type": "execute_result"
    }
   ],
   "source": [
    "tokens_pad = pad_sequences(tokens, maxlen=max_tokens)\n",
    "tokens_pad.shape"
   ]
  },
  {
   "cell_type": "code",
   "execution_count": 620,
   "metadata": {},
   "outputs": [
    {
     "name": "stdout",
     "output_type": "stream",
     "text": [
      "Posiive\n",
      "Posiive\n",
      "Negative\n",
      "Posiive\n",
      "Negative\n",
      "Posiive\n",
      "Posiive\n",
      "Negative\n",
      "Negative\n",
      "Negative\n"
     ]
    }
   ],
   "source": [
    "for i in model.predict(tokens_pad):\n",
    "    if i[0]<0.5:\n",
    "        print('Negative')\n",
    "    else:\n",
    "        print('Posiive')"
   ]
  },
  {
   "cell_type": "markdown",
   "metadata": {},
   "source": [
    "10/10 are True"
   ]
  },
  {
   "cell_type": "code",
   "execution_count": 615,
   "metadata": {},
   "outputs": [],
   "source": [
    "def get_predict(text):\n",
    "    tokens = tokenizer.texts_to_sequences(text)\n",
    "#     print(tokens) \n",
    "    tokens_pad = pad_sequences(tokens, maxlen=max_tokens)\n",
    "    predict = model.predict(tokens_pad)\n",
    "    return predict"
   ]
  },
  {
   "cell_type": "code",
   "execution_count": 618,
   "metadata": {},
   "outputs": [
    {
     "name": "stdout",
     "output_type": "stream",
     "text": [
      "Please input a text :he does not like swimming\n",
      "[[27, 123, 20, 36, 4424]]\n"
     ]
    },
    {
     "data": {
      "text/plain": [
       "array([[0.3171076]], dtype=float32)"
      ]
     },
     "execution_count": 618,
     "metadata": {},
     "output_type": "execute_result"
    }
   ],
   "source": [
    "text = input('Please input a text :')\n",
    "get_predict([text])"
   ]
  }
 ],
 "metadata": {
  "kernelspec": {
   "display_name": "Python 3",
   "language": "python",
   "name": "python3"
  },
  "language_info": {
   "codemirror_mode": {
    "name": "ipython",
    "version": 3
   },
   "file_extension": ".py",
   "mimetype": "text/x-python",
   "name": "python",
   "nbconvert_exporter": "python",
   "pygments_lexer": "ipython3",
   "version": "3.7.4"
  }
 },
 "nbformat": 4,
 "nbformat_minor": 2
}
